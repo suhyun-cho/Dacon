{
 "cells": [
  {
   "cell_type": "markdown",
   "metadata": {},
   "source": [
    "# Dacon Competition Project : Predict Market Sales"
   ]
  },
  {
   "cell_type": "markdown",
   "metadata": {},
   "source": [
    "## Data field\n",
    "* store_id : 상점의 고유 아이디\n",
    "* card_id : 사용한 카드의 고유 아이디\n",
    "* card_company : 비식별화된 카드 회사\n",
    "* transacted_date: 거래 날짜\n",
    "* transacted_time : 거래 시간 (시:분)\n",
    "* installment_term : 할부 개월 수( 포인트 사용 시 (60개월 + 실제할부개월)을 할부개월수에 기재한다. )\n",
    "* region : 상점의 지역\n",
    "* type_of_business:상점의 업종\n",
    "* amount : 거래액(단위는 원이 아닙니다)"
   ]
  },
  {
   "cell_type": "markdown",
   "metadata": {},
   "source": [
    "## Index\n",
    "### Step1. Data Load & Resampling\n",
    "* 시계열 분석을 위한 date index로 변환\n",
    "* 시간 단위로 나뉘어져 있는 데이터를 일 단위로 resampling\n",
    "* Modeling을 위해 월 단위로 resampling\n"
   ]
  },
  {
   "cell_type": "code",
   "execution_count": 1,
   "metadata": {},
   "outputs": [
    {
     "data": {
      "text/html": [
       "<style>.container { width:98% !important; }</style>"
      ],
      "text/plain": [
       "<IPython.core.display.HTML object>"
      ]
     },
     "metadata": {},
     "output_type": "display_data"
    }
   ],
   "source": [
    "# jupyter notebook cell 너비 조절\n",
    "from IPython.core.display import display, HTML\n",
    "display(HTML(\"<style>.container { width:98% !important; }</style>\"))\n",
    "\n",
    "import warnings\n",
    "warnings.filterwarnings(\"ignore\")"
   ]
  },
  {
   "cell_type": "code",
   "execution_count": 2,
   "metadata": {},
   "outputs": [
    {
     "ename": "ModuleNotFoundError",
     "evalue": "No module named 'fbprophet'",
     "output_type": "error",
     "traceback": [
      "\u001b[0;31m---------------------------------------------------------------------------\u001b[0m",
      "\u001b[0;31mModuleNotFoundError\u001b[0m                       Traceback (most recent call last)",
      "\u001b[0;32m<ipython-input-2-a8672a80357f>\u001b[0m in \u001b[0;36m<module>\u001b[0;34m\u001b[0m\n\u001b[1;32m     10\u001b[0m \u001b[0;34m\u001b[0m\u001b[0m\n\u001b[1;32m     11\u001b[0m \u001b[0;31m# 시계열\u001b[0m\u001b[0;34m\u001b[0m\u001b[0;34m\u001b[0m\u001b[0;34m\u001b[0m\u001b[0m\n\u001b[0;32m---> 12\u001b[0;31m \u001b[0;32mfrom\u001b[0m \u001b[0mfbprophet\u001b[0m \u001b[0;32mimport\u001b[0m \u001b[0mProphet\u001b[0m\u001b[0;34m\u001b[0m\u001b[0;34m\u001b[0m\u001b[0m\n\u001b[0m\u001b[1;32m     13\u001b[0m \u001b[0;32mfrom\u001b[0m \u001b[0mdatetime\u001b[0m \u001b[0;32mimport\u001b[0m \u001b[0mdatetime\u001b[0m \u001b[0;32mas\u001b[0m \u001b[0mdt\u001b[0m\u001b[0;34m\u001b[0m\u001b[0;34m\u001b[0m\u001b[0m\n\u001b[1;32m     14\u001b[0m \u001b[0;32mfrom\u001b[0m \u001b[0mstatsmodels\u001b[0m\u001b[0;34m.\u001b[0m\u001b[0mtsa\u001b[0m\u001b[0;34m.\u001b[0m\u001b[0marima_model\u001b[0m \u001b[0;32mimport\u001b[0m \u001b[0mARIMA\u001b[0m\u001b[0;34m\u001b[0m\u001b[0;34m\u001b[0m\u001b[0m\n",
      "\u001b[0;31mModuleNotFoundError\u001b[0m: No module named 'fbprophet'"
     ]
    }
   ],
   "source": [
    "# 기본\n",
    "import itertools\n",
    "import numpy as np\n",
    "import pandas as pd\n",
    "import seaborn as sns\n",
    "import matplotlib as mpl\n",
    "import matplotlib.pyplot as plt\n",
    "from sklearn.externals import joblib \n",
    "from sklearn.metrics import make_scorer\n",
    "\n",
    "# 시계열\n",
    "from fbprophet import Prophet\n",
    "from datetime import datetime as dt\n",
    "from statsmodels.tsa.arima_model import ARIMA\n",
    "from dateutil.relativedelta import relativedelta\n",
    "from statsmodels.tsa.api import SimpleExpSmoothing, Holt, ExponentialSmoothing\n",
    "\n",
    "# 회귀분석\n",
    "from sklearn.svm import SVR\n",
    "from xgboost import XGBRegressor\n",
    "from sklearn.ensemble import RandomForestRegressor\n",
    "from sklearn.pipeline import make_pipeline, Pipeline\n",
    "from sklearn.ensemble import GradientBoostingRegressor\n",
    "from sklearn.model_selection import KFold, cross_val_score, GridSearchCV\n",
    "from sklearn.linear_model import LinearRegression, Ridge, Lasso, ElasticNet\n",
    "\n",
    "# Deep Neural Network\n",
    "from keras.layers.core import Dense, Activation, Dropout\n",
    "from keras.layers.recurrent import LSTM\n",
    "from keras.models import Sequential\n",
    "import time\n",
    "\n",
    "# 설정\n",
    "%matplotlib inline\n",
    "pd.options.display.max_columns = 400\n",
    "pd.options.display.float_format = '{:.5f}'.format\n"
   ]
  },
  {
   "cell_type": "markdown",
   "metadata": {},
   "source": [
    "## Evaluate Metric\n",
    "* MAE (Mean Absolute Error) : 절댓값 오차의 평균\n",
    "\n",
    "$MAE=\\frac{1}{𝑛}∑| 𝑦𝑖−𝑦̂𝑖|$\n",
    " \n",
    "* validation을 위한 함수 생성 및 make scorer"
   ]
  },
  {
   "cell_type": "code",
   "execution_count": 3,
   "metadata": {},
   "outputs": [
    {
     "data": {
      "text/plain": [
       "make_scorer(mae)"
      ]
     },
     "execution_count": 3,
     "metadata": {},
     "output_type": "execute_result"
    }
   ],
   "source": [
    "def mae(prediction, correct):\n",
    "    prediction = np.array(prediction)\n",
    "    correct = np.array(correct)\n",
    "    \n",
    "    difference = correct - prediction\n",
    "    abs_val = abs(difference)\n",
    "    \n",
    "    score = abs_val.mean()\n",
    "    \n",
    "    return score\n",
    "\n",
    "mae_scorer = make_scorer(mae)\n",
    "mae_scorer"
   ]
  },
  {
   "cell_type": "markdown",
   "metadata": {},
   "source": [
    "## Issue\n",
    "1) 예측해야 하는 범위는 3개월인데 데이터는 시간 단위로 나뉘어져 있음\n",
    "* month 주기로 resampling 후 forecast 범위를 3개월로 지정하여 해결\n",
    "\n",
    "2) 1967개의 store_id가 각각의 trend와 seasonality를 가지고 있음\n",
    "* 같은 알고리즘에서 각 store_id별로 parameter를 조절한다.\n",
    "\n",
    "3) 예측 날짜는 2019-03~2019-05로 동일하나, 제공 데이터의 마지막 날짜는 차이가 있다.\n",
    "* 마지막 날짜부터 3개월만 예측하여 제출한다.(ex: store_id 111의 마지막 날짜는 2018-09월로 뒤 3개월인 2018-10~2018-12만 예측하여 제출)\n",
    "* 예측 기간이 길어질수록 오차가 크게 발생하여 바로 뒤 3개월만 예측하는 것이 정확도가 높았음"
   ]
  },
  {
   "cell_type": "markdown",
   "metadata": {},
   "source": [
    "# Step1. Data Load"
   ]
  },
  {
   "cell_type": "code",
   "execution_count": 4,
   "metadata": {},
   "outputs": [
    {
     "name": "stdout",
     "output_type": "stream",
     "text": [
      "(6556613, 9)\n"
     ]
    }
   ],
   "source": [
    "df_train = pd.read_csv('./data/funda_train.csv')\n",
    "df_sub = pd.read_csv('./data/submission.csv')\n",
    "df_train['transacted_date'] = pd.to_datetime(df_train['transacted_date'])\n",
    "\n",
    "print(df_train.shape)"
   ]
  },
  {
   "cell_type": "code",
   "execution_count": 39,
   "metadata": {},
   "outputs": [
    {
     "data": {
      "text/plain": [
       "dtype('<M8[ns]')"
      ]
     },
     "execution_count": 39,
     "metadata": {},
     "output_type": "execute_result"
    }
   ],
   "source": [
    "df_train['transacted_date'].dtype"
   ]
  },
  {
   "cell_type": "code",
   "execution_count": 40,
   "metadata": {},
   "outputs": [
    {
     "data": {
      "text/html": [
       "<div>\n",
       "<style scoped>\n",
       "    .dataframe tbody tr th:only-of-type {\n",
       "        vertical-align: middle;\n",
       "    }\n",
       "\n",
       "    .dataframe tbody tr th {\n",
       "        vertical-align: top;\n",
       "    }\n",
       "\n",
       "    .dataframe thead th {\n",
       "        text-align: right;\n",
       "    }\n",
       "</style>\n",
       "<table border=\"1\" class=\"dataframe\">\n",
       "  <thead>\n",
       "    <tr style=\"text-align: right;\">\n",
       "      <th></th>\n",
       "      <th>store_id</th>\n",
       "      <th>card_id</th>\n",
       "      <th>card_company</th>\n",
       "      <th>transacted_date</th>\n",
       "      <th>transacted_time</th>\n",
       "      <th>installment_term</th>\n",
       "      <th>region</th>\n",
       "      <th>type_of_business</th>\n",
       "      <th>amount</th>\n",
       "    </tr>\n",
       "  </thead>\n",
       "  <tbody>\n",
       "    <tr>\n",
       "      <th>0</th>\n",
       "      <td>0</td>\n",
       "      <td>0</td>\n",
       "      <td>b</td>\n",
       "      <td>2016-06-01</td>\n",
       "      <td>13:13</td>\n",
       "      <td>0</td>\n",
       "      <td>NaN</td>\n",
       "      <td>기타 미용업</td>\n",
       "      <td>1857.142857</td>\n",
       "    </tr>\n",
       "    <tr>\n",
       "      <th>1</th>\n",
       "      <td>0</td>\n",
       "      <td>1</td>\n",
       "      <td>h</td>\n",
       "      <td>2016-06-01</td>\n",
       "      <td>18:12</td>\n",
       "      <td>0</td>\n",
       "      <td>NaN</td>\n",
       "      <td>기타 미용업</td>\n",
       "      <td>857.142857</td>\n",
       "    </tr>\n",
       "    <tr>\n",
       "      <th>2</th>\n",
       "      <td>0</td>\n",
       "      <td>2</td>\n",
       "      <td>c</td>\n",
       "      <td>2016-06-01</td>\n",
       "      <td>18:52</td>\n",
       "      <td>0</td>\n",
       "      <td>NaN</td>\n",
       "      <td>기타 미용업</td>\n",
       "      <td>2000.000000</td>\n",
       "    </tr>\n",
       "    <tr>\n",
       "      <th>3</th>\n",
       "      <td>0</td>\n",
       "      <td>3</td>\n",
       "      <td>a</td>\n",
       "      <td>2016-06-01</td>\n",
       "      <td>20:22</td>\n",
       "      <td>0</td>\n",
       "      <td>NaN</td>\n",
       "      <td>기타 미용업</td>\n",
       "      <td>7857.142857</td>\n",
       "    </tr>\n",
       "    <tr>\n",
       "      <th>4</th>\n",
       "      <td>0</td>\n",
       "      <td>4</td>\n",
       "      <td>c</td>\n",
       "      <td>2016-06-02</td>\n",
       "      <td>11:06</td>\n",
       "      <td>0</td>\n",
       "      <td>NaN</td>\n",
       "      <td>기타 미용업</td>\n",
       "      <td>2000.000000</td>\n",
       "    </tr>\n",
       "  </tbody>\n",
       "</table>\n",
       "</div>"
      ],
      "text/plain": [
       "   store_id  card_id card_company transacted_date transacted_time  \\\n",
       "0         0        0            b      2016-06-01           13:13   \n",
       "1         0        1            h      2016-06-01           18:12   \n",
       "2         0        2            c      2016-06-01           18:52   \n",
       "3         0        3            a      2016-06-01           20:22   \n",
       "4         0        4            c      2016-06-02           11:06   \n",
       "\n",
       "   installment_term region type_of_business       amount  \n",
       "0                 0    NaN           기타 미용업  1857.142857  \n",
       "1                 0    NaN           기타 미용업   857.142857  \n",
       "2                 0    NaN           기타 미용업  2000.000000  \n",
       "3                 0    NaN           기타 미용업  7857.142857  \n",
       "4                 0    NaN           기타 미용업  2000.000000  "
      ]
     },
     "execution_count": 40,
     "metadata": {},
     "output_type": "execute_result"
    }
   ],
   "source": [
    "df_train.head()"
   ]
  },
  {
   "cell_type": "code",
   "execution_count": 19,
   "metadata": {},
   "outputs": [
    {
     "data": {
      "text/html": [
       "<div>\n",
       "<style scoped>\n",
       "    .dataframe tbody tr th:only-of-type {\n",
       "        vertical-align: middle;\n",
       "    }\n",
       "\n",
       "    .dataframe tbody tr th {\n",
       "        vertical-align: top;\n",
       "    }\n",
       "\n",
       "    .dataframe thead th {\n",
       "        text-align: right;\n",
       "    }\n",
       "</style>\n",
       "<table border=\"1\" class=\"dataframe\">\n",
       "  <thead>\n",
       "    <tr style=\"text-align: right;\">\n",
       "      <th></th>\n",
       "      <th>name</th>\n",
       "      <th>num_of_unique</th>\n",
       "      <th>num_of_nan</th>\n",
       "      <th>type</th>\n",
       "      <th>front5_values</th>\n",
       "    </tr>\n",
       "  </thead>\n",
       "  <tbody>\n",
       "    <tr>\n",
       "      <th>0</th>\n",
       "      <td>store_id</td>\n",
       "      <td>1967</td>\n",
       "      <td>0</td>\n",
       "      <td>int64</td>\n",
       "      <td>[0, 1, 2, 4, 5]</td>\n",
       "    </tr>\n",
       "    <tr>\n",
       "      <th>1</th>\n",
       "      <td>card_id</td>\n",
       "      <td>3950001</td>\n",
       "      <td>0</td>\n",
       "      <td>int64</td>\n",
       "      <td>[0, 1, 2, 3, 4]</td>\n",
       "    </tr>\n",
       "    <tr>\n",
       "      <th>2</th>\n",
       "      <td>card_company</td>\n",
       "      <td>8</td>\n",
       "      <td>0</td>\n",
       "      <td>object</td>\n",
       "      <td>[b, h, c, a, f]</td>\n",
       "    </tr>\n",
       "    <tr>\n",
       "      <th>3</th>\n",
       "      <td>transacted_date</td>\n",
       "      <td>1003</td>\n",
       "      <td>0</td>\n",
       "      <td>datetime64[ns]</td>\n",
       "      <td>[2016-06-01T00:00:00.000000000, 2016-06-02T00:...</td>\n",
       "    </tr>\n",
       "    <tr>\n",
       "      <th>4</th>\n",
       "      <td>transacted_time</td>\n",
       "      <td>1440</td>\n",
       "      <td>0</td>\n",
       "      <td>object</td>\n",
       "      <td>[13:13, 18:12, 18:52, 20:22, 11:06]</td>\n",
       "    </tr>\n",
       "    <tr>\n",
       "      <th>5</th>\n",
       "      <td>installment_term</td>\n",
       "      <td>34</td>\n",
       "      <td>0</td>\n",
       "      <td>int64</td>\n",
       "      <td>[0, 2, 3, 60, 4]</td>\n",
       "    </tr>\n",
       "    <tr>\n",
       "      <th>6</th>\n",
       "      <td>region</td>\n",
       "      <td>181</td>\n",
       "      <td>2042766</td>\n",
       "      <td>object</td>\n",
       "      <td>[nan, 서울 종로구, 충북 충주시, 부산 동래구, 경기 평택시]</td>\n",
       "    </tr>\n",
       "    <tr>\n",
       "      <th>7</th>\n",
       "      <td>type_of_business</td>\n",
       "      <td>146</td>\n",
       "      <td>3952609</td>\n",
       "      <td>object</td>\n",
       "      <td>[기타 미용업, nan, 의복 액세서리 및 모조 장신구 도매업, 한식 음식점업, 배...</td>\n",
       "    </tr>\n",
       "    <tr>\n",
       "      <th>8</th>\n",
       "      <td>amount</td>\n",
       "      <td>30551</td>\n",
       "      <td>0</td>\n",
       "      <td>float64</td>\n",
       "      <td>[1857.142857142857, 857.1428571428571, 2000.0,...</td>\n",
       "    </tr>\n",
       "  </tbody>\n",
       "</table>\n",
       "</div>"
      ],
      "text/plain": [
       "               name  num_of_unique  num_of_nan            type  \\\n",
       "0          store_id           1967           0           int64   \n",
       "1           card_id        3950001           0           int64   \n",
       "2      card_company              8           0          object   \n",
       "3   transacted_date           1003           0  datetime64[ns]   \n",
       "4   transacted_time           1440           0          object   \n",
       "5  installment_term             34           0           int64   \n",
       "6            region            181     2042766          object   \n",
       "7  type_of_business            146     3952609          object   \n",
       "8            amount          30551           0         float64   \n",
       "\n",
       "                                       front5_values  \n",
       "0                                    [0, 1, 2, 4, 5]  \n",
       "1                                    [0, 1, 2, 3, 4]  \n",
       "2                                    [b, h, c, a, f]  \n",
       "3  [2016-06-01T00:00:00.000000000, 2016-06-02T00:...  \n",
       "4                [13:13, 18:12, 18:52, 20:22, 11:06]  \n",
       "5                                   [0, 2, 3, 60, 4]  \n",
       "6              [nan, 서울 종로구, 충북 충주시, 부산 동래구, 경기 평택시]  \n",
       "7  [기타 미용업, nan, 의복 액세서리 및 모조 장신구 도매업, 한식 음식점업, 배...  \n",
       "8  [1857.142857142857, 857.1428571428571, 2000.0,...  "
      ]
     },
     "execution_count": 19,
     "metadata": {},
     "output_type": "execute_result"
    }
   ],
   "source": [
    "# 각 컬럼의 유니크한 값이 몇개인지, 결측치 개수, 데이터타입, 유니크한 값 5개\n",
    "### 아래 for문 풀어서 써보기 !\n",
    "frame_info=[ ( col, len(df_train[col].unique()), df_train[col].isnull().sum(), df_train[col].dtype, df_train[col].unique()[:5] ) for col in df_train.columns]\n",
    "df_info=pd.DataFrame(frame_info, columns=['name', 'num_of_unique', 'num_of_nan', 'type', 'front5_values'])\n",
    "df_info"
   ]
  },
  {
   "cell_type": "markdown",
   "metadata": {},
   "source": [
    "### 시계열 분석을 위해 date 정보를 index로 변환"
   ]
  },
  {
   "cell_type": "code",
   "execution_count": 41,
   "metadata": {},
   "outputs": [
    {
     "data": {
      "text/html": [
       "<div>\n",
       "<style scoped>\n",
       "    .dataframe tbody tr th:only-of-type {\n",
       "        vertical-align: middle;\n",
       "    }\n",
       "\n",
       "    .dataframe tbody tr th {\n",
       "        vertical-align: top;\n",
       "    }\n",
       "\n",
       "    .dataframe thead th {\n",
       "        text-align: right;\n",
       "    }\n",
       "</style>\n",
       "<table border=\"1\" class=\"dataframe\">\n",
       "  <thead>\n",
       "    <tr style=\"text-align: right;\">\n",
       "      <th></th>\n",
       "      <th>store_id</th>\n",
       "      <th>card_id</th>\n",
       "      <th>card_company</th>\n",
       "      <th>transacted_time</th>\n",
       "      <th>installment_term</th>\n",
       "      <th>region</th>\n",
       "      <th>type_of_business</th>\n",
       "      <th>amount</th>\n",
       "    </tr>\n",
       "    <tr>\n",
       "      <th>transacted_date</th>\n",
       "      <th></th>\n",
       "      <th></th>\n",
       "      <th></th>\n",
       "      <th></th>\n",
       "      <th></th>\n",
       "      <th></th>\n",
       "      <th></th>\n",
       "      <th></th>\n",
       "    </tr>\n",
       "  </thead>\n",
       "  <tbody>\n",
       "    <tr>\n",
       "      <th>2016-06-01</th>\n",
       "      <td>0</td>\n",
       "      <td>0</td>\n",
       "      <td>b</td>\n",
       "      <td>13:13</td>\n",
       "      <td>0</td>\n",
       "      <td>NaN</td>\n",
       "      <td>기타 미용업</td>\n",
       "      <td>1857.142857</td>\n",
       "    </tr>\n",
       "    <tr>\n",
       "      <th>2016-06-01</th>\n",
       "      <td>0</td>\n",
       "      <td>1</td>\n",
       "      <td>h</td>\n",
       "      <td>18:12</td>\n",
       "      <td>0</td>\n",
       "      <td>NaN</td>\n",
       "      <td>기타 미용업</td>\n",
       "      <td>857.142857</td>\n",
       "    </tr>\n",
       "    <tr>\n",
       "      <th>2016-06-01</th>\n",
       "      <td>0</td>\n",
       "      <td>2</td>\n",
       "      <td>c</td>\n",
       "      <td>18:52</td>\n",
       "      <td>0</td>\n",
       "      <td>NaN</td>\n",
       "      <td>기타 미용업</td>\n",
       "      <td>2000.000000</td>\n",
       "    </tr>\n",
       "  </tbody>\n",
       "</table>\n",
       "</div>"
      ],
      "text/plain": [
       "                 store_id  card_id card_company transacted_time  \\\n",
       "transacted_date                                                   \n",
       "2016-06-01              0        0            b           13:13   \n",
       "2016-06-01              0        1            h           18:12   \n",
       "2016-06-01              0        2            c           18:52   \n",
       "\n",
       "                 installment_term region type_of_business       amount  \n",
       "transacted_date                                                         \n",
       "2016-06-01                      0    NaN           기타 미용업  1857.142857  \n",
       "2016-06-01                      0    NaN           기타 미용업   857.142857  \n",
       "2016-06-01                      0    NaN           기타 미용업  2000.000000  "
      ]
     },
     "execution_count": 41,
     "metadata": {},
     "output_type": "execute_result"
    }
   ],
   "source": [
    "df_train = df_train.set_index('transacted_date')\n",
    "df_train.head(3)"
   ]
  },
  {
   "cell_type": "markdown",
   "metadata": {},
   "source": [
    "### 시간 단위로 나뉘어져 있는 데이터를 일단위로 resampling\n",
    "* 'store_id', 'region', 'type_of_business' 기존과 동일\n",
    "* day_of_week : 각 요일을 나타내는 숫자, 월요일은 0 일요일은 6\n",
    "* business_day : working day 여부, 1이면 working day 0이면 주말\n",
    "* num_of_pay : 일 결제 건수, 'card_id'의 count로 생성\n",
    "* num_of_revisit : 단골 방문 횟수, 'card_id'의 value 중 count가 2보다 큰(3 이상) value의 결제 건수\n",
    "* installment_term : 일 총 할부 개월 수, 기존 installment_term의 합\n",
    "* amount : 일 매출 액, 기존 amount의 합\n",
    "\n",
    "> 시간별 데이터를 일별로 카운트하고 싶을 때\n",
    "* resample(rule='d').count( ) <br>\n",
    "\n",
    "> 시간별 데이터를 일별로 합계를 구하고 싶을 때\n",
    "* resample(rule='d').sum( )"
   ]
  },
  {
   "cell_type": "code",
   "execution_count": 49,
   "metadata": {},
   "outputs": [
    {
     "data": {
      "text/html": [
       "<div>\n",
       "<style scoped>\n",
       "    .dataframe tbody tr th:only-of-type {\n",
       "        vertical-align: middle;\n",
       "    }\n",
       "\n",
       "    .dataframe tbody tr th {\n",
       "        vertical-align: top;\n",
       "    }\n",
       "\n",
       "    .dataframe thead th {\n",
       "        text-align: right;\n",
       "    }\n",
       "</style>\n",
       "<table border=\"1\" class=\"dataframe\">\n",
       "  <thead>\n",
       "    <tr style=\"text-align: right;\">\n",
       "      <th></th>\n",
       "      <th>store_id</th>\n",
       "      <th>card_id</th>\n",
       "      <th>card_company</th>\n",
       "      <th>transacted_time</th>\n",
       "      <th>installment_term</th>\n",
       "      <th>region</th>\n",
       "      <th>type_of_business</th>\n",
       "      <th>amount</th>\n",
       "    </tr>\n",
       "    <tr>\n",
       "      <th>transacted_date</th>\n",
       "      <th></th>\n",
       "      <th></th>\n",
       "      <th></th>\n",
       "      <th></th>\n",
       "      <th></th>\n",
       "      <th></th>\n",
       "      <th></th>\n",
       "      <th></th>\n",
       "    </tr>\n",
       "  </thead>\n",
       "  <tbody>\n",
       "    <tr>\n",
       "      <th>2016-06-01</th>\n",
       "      <td>0</td>\n",
       "      <td>0</td>\n",
       "      <td>b</td>\n",
       "      <td>13:13</td>\n",
       "      <td>0</td>\n",
       "      <td>NaN</td>\n",
       "      <td>기타 미용업</td>\n",
       "      <td>1857.142857</td>\n",
       "    </tr>\n",
       "    <tr>\n",
       "      <th>2016-06-01</th>\n",
       "      <td>0</td>\n",
       "      <td>1</td>\n",
       "      <td>h</td>\n",
       "      <td>18:12</td>\n",
       "      <td>0</td>\n",
       "      <td>NaN</td>\n",
       "      <td>기타 미용업</td>\n",
       "      <td>857.142857</td>\n",
       "    </tr>\n",
       "    <tr>\n",
       "      <th>2016-06-01</th>\n",
       "      <td>0</td>\n",
       "      <td>2</td>\n",
       "      <td>c</td>\n",
       "      <td>18:52</td>\n",
       "      <td>0</td>\n",
       "      <td>NaN</td>\n",
       "      <td>기타 미용업</td>\n",
       "      <td>2000.000000</td>\n",
       "    </tr>\n",
       "    <tr>\n",
       "      <th>2016-06-01</th>\n",
       "      <td>0</td>\n",
       "      <td>3</td>\n",
       "      <td>a</td>\n",
       "      <td>20:22</td>\n",
       "      <td>0</td>\n",
       "      <td>NaN</td>\n",
       "      <td>기타 미용업</td>\n",
       "      <td>7857.142857</td>\n",
       "    </tr>\n",
       "    <tr>\n",
       "      <th>2016-06-02</th>\n",
       "      <td>0</td>\n",
       "      <td>4</td>\n",
       "      <td>c</td>\n",
       "      <td>11:06</td>\n",
       "      <td>0</td>\n",
       "      <td>NaN</td>\n",
       "      <td>기타 미용업</td>\n",
       "      <td>2000.000000</td>\n",
       "    </tr>\n",
       "    <tr>\n",
       "      <th>...</th>\n",
       "      <td>...</td>\n",
       "      <td>...</td>\n",
       "      <td>...</td>\n",
       "      <td>...</td>\n",
       "      <td>...</td>\n",
       "      <td>...</td>\n",
       "      <td>...</td>\n",
       "      <td>...</td>\n",
       "    </tr>\n",
       "    <tr>\n",
       "      <th>2019-02-28</th>\n",
       "      <td>0</td>\n",
       "      <td>1476</td>\n",
       "      <td>a</td>\n",
       "      <td>12:17</td>\n",
       "      <td>0</td>\n",
       "      <td>NaN</td>\n",
       "      <td>기타 미용업</td>\n",
       "      <td>2857.142857</td>\n",
       "    </tr>\n",
       "    <tr>\n",
       "      <th>2019-02-28</th>\n",
       "      <td>0</td>\n",
       "      <td>1719</td>\n",
       "      <td>a</td>\n",
       "      <td>16:20</td>\n",
       "      <td>0</td>\n",
       "      <td>NaN</td>\n",
       "      <td>기타 미용업</td>\n",
       "      <td>6428.571429</td>\n",
       "    </tr>\n",
       "    <tr>\n",
       "      <th>2019-02-28</th>\n",
       "      <td>0</td>\n",
       "      <td>1791</td>\n",
       "      <td>b</td>\n",
       "      <td>16:56</td>\n",
       "      <td>0</td>\n",
       "      <td>NaN</td>\n",
       "      <td>기타 미용업</td>\n",
       "      <td>7142.857143</td>\n",
       "    </tr>\n",
       "    <tr>\n",
       "      <th>2019-02-28</th>\n",
       "      <td>0</td>\n",
       "      <td>669</td>\n",
       "      <td>c</td>\n",
       "      <td>17:25</td>\n",
       "      <td>0</td>\n",
       "      <td>NaN</td>\n",
       "      <td>기타 미용업</td>\n",
       "      <td>2142.857143</td>\n",
       "    </tr>\n",
       "    <tr>\n",
       "      <th>2019-02-28</th>\n",
       "      <td>0</td>\n",
       "      <td>530</td>\n",
       "      <td>e</td>\n",
       "      <td>18:59</td>\n",
       "      <td>0</td>\n",
       "      <td>NaN</td>\n",
       "      <td>기타 미용업</td>\n",
       "      <td>2142.857143</td>\n",
       "    </tr>\n",
       "  </tbody>\n",
       "</table>\n",
       "<p>4481 rows × 8 columns</p>\n",
       "</div>"
      ],
      "text/plain": [
       "                 store_id  card_id card_company transacted_time  \\\n",
       "transacted_date                                                   \n",
       "2016-06-01              0        0            b           13:13   \n",
       "2016-06-01              0        1            h           18:12   \n",
       "2016-06-01              0        2            c           18:52   \n",
       "2016-06-01              0        3            a           20:22   \n",
       "2016-06-02              0        4            c           11:06   \n",
       "...                   ...      ...          ...             ...   \n",
       "2019-02-28              0     1476            a           12:17   \n",
       "2019-02-28              0     1719            a           16:20   \n",
       "2019-02-28              0     1791            b           16:56   \n",
       "2019-02-28              0      669            c           17:25   \n",
       "2019-02-28              0      530            e           18:59   \n",
       "\n",
       "                 installment_term region type_of_business       amount  \n",
       "transacted_date                                                         \n",
       "2016-06-01                      0    NaN           기타 미용업  1857.142857  \n",
       "2016-06-01                      0    NaN           기타 미용업   857.142857  \n",
       "2016-06-01                      0    NaN           기타 미용업  2000.000000  \n",
       "2016-06-01                      0    NaN           기타 미용업  7857.142857  \n",
       "2016-06-02                      0    NaN           기타 미용업  2000.000000  \n",
       "...                           ...    ...              ...          ...  \n",
       "2019-02-28                      0    NaN           기타 미용업  2857.142857  \n",
       "2019-02-28                      0    NaN           기타 미용업  6428.571429  \n",
       "2019-02-28                      0    NaN           기타 미용업  7142.857143  \n",
       "2019-02-28                      0    NaN           기타 미용업  2142.857143  \n",
       "2019-02-28                      0    NaN           기타 미용업  2142.857143  \n",
       "\n",
       "[4481 rows x 8 columns]"
      ]
     },
     "execution_count": 49,
     "metadata": {},
     "output_type": "execute_result"
    }
   ],
   "source": [
    "df_train[df_train.store_id==0]"
   ]
  },
  {
   "cell_type": "markdown",
   "metadata": {},
   "source": [
    "#### resample() 함수\n",
    "    * resample('d') 는 '년-월-일 시간:분:초' 의 시계열 index를 1일 단위의 동일 간격별로 데이터를 뽑으라는 뜻\n",
    "#### insert() 함수\n",
    "    * insert(a, b)는 리스트의 a번째 위치에 b를 삽입하는 함수이다.\n",
    "#### dayofweek\n",
    "    * date정보를 index로 변환했기 때문에 \n",
    "    * df_train.index.dayofweek를 하면 각 요일을 나타내는 숫자 출력됨"
   ]
  },
  {
   "cell_type": "code",
   "execution_count": 139,
   "metadata": {},
   "outputs": [
    {
     "data": {
      "text/plain": [
       "Int64Index([2, 2, 2, 2, 3, 3, 3, 3, 3, 3,\n",
       "            ...\n",
       "            3, 3, 3, 3, 3, 3, 3, 3, 3, 3],\n",
       "           dtype='int64', name='transacted_date', length=6556613)"
      ]
     },
     "execution_count": 139,
     "metadata": {},
     "output_type": "execute_result"
    }
   ],
   "source": [
    "df_train.index.dayofweek"
   ]
  },
  {
   "cell_type": "code",
   "execution_count": 69,
   "metadata": {},
   "outputs": [
    {
     "data": {
      "text/plain": [
       "transacted_date\n",
       "2016-06-01    4\n",
       "2016-06-02    7\n",
       "2016-06-03    3\n",
       "2016-06-04    7\n",
       "2016-06-05    3\n",
       "             ..\n",
       "2019-02-24    6\n",
       "2019-02-25    6\n",
       "2019-02-26    0\n",
       "2019-02-27    5\n",
       "2019-02-28    6\n",
       "Freq: D, Name: num_of_pay, Length: 1003, dtype: int64"
      ]
     },
     "execution_count": 69,
     "metadata": {},
     "output_type": "execute_result"
    }
   ],
   "source": [
    "df_train[df_train.store_id==0]['card_id'].resample(rule='d').count().rename('num_of_pay')"
   ]
  },
  {
   "cell_type": "code",
   "execution_count": 90,
   "metadata": {},
   "outputs": [
    {
     "data": {
      "text/plain": [
       "array([ 32, 855,  44, 669, 898, 138, 480, 560, 346, 595])"
      ]
     },
     "execution_count": 90,
     "metadata": {},
     "output_type": "execute_result"
    }
   ],
   "source": [
    "df_train[df_train.store_id==0].card_id.value_counts().reset_index().query(\"card_id >2\")[\"index\"].values[:10]"
   ]
  },
  {
   "cell_type": "code",
   "execution_count": 95,
   "metadata": {},
   "outputs": [
    {
     "data": {
      "text/plain": [
       "transacted_date\n",
       "2016-06-01       0\n",
       "2016-06-01       1\n",
       "2016-06-01       2\n",
       "2016-06-01       3\n",
       "2016-06-02       4\n",
       "              ... \n",
       "2018-04-28    1248\n",
       "2017-10-04    1252\n",
       "2017-12-22     117\n",
       "2018-03-12     488\n",
       "2017-02-11     707\n",
       "Name: card_id, Length: 2877, dtype: int64"
      ]
     },
     "execution_count": 95,
     "metadata": {},
     "output_type": "execute_result"
    }
   ],
   "source": [
    "df_train[df_train.card_id.isin(df_train[df_train.store_id==0].card_id.value_counts().reset_index().query(\"card_id >2\")[\"index\"].values)].card_id"
   ]
  },
  {
   "cell_type": "code",
   "execution_count": 98,
   "metadata": {},
   "outputs": [
    {
     "data": {
      "text/html": [
       "<div>\n",
       "<style scoped>\n",
       "    .dataframe tbody tr th:only-of-type {\n",
       "        vertical-align: middle;\n",
       "    }\n",
       "\n",
       "    .dataframe tbody tr th {\n",
       "        vertical-align: top;\n",
       "    }\n",
       "\n",
       "    .dataframe thead th {\n",
       "        text-align: right;\n",
       "    }\n",
       "</style>\n",
       "<table border=\"1\" class=\"dataframe\">\n",
       "  <thead>\n",
       "    <tr style=\"text-align: right;\">\n",
       "      <th></th>\n",
       "      <th>installment_term</th>\n",
       "      <th>amount</th>\n",
       "    </tr>\n",
       "    <tr>\n",
       "      <th>transacted_date</th>\n",
       "      <th></th>\n",
       "      <th></th>\n",
       "    </tr>\n",
       "  </thead>\n",
       "  <tbody>\n",
       "    <tr>\n",
       "      <th>2016-06-01</th>\n",
       "      <td>0</td>\n",
       "      <td>12571.428571</td>\n",
       "    </tr>\n",
       "    <tr>\n",
       "      <th>2016-06-02</th>\n",
       "      <td>0</td>\n",
       "      <td>40571.428571</td>\n",
       "    </tr>\n",
       "    <tr>\n",
       "      <th>2016-06-03</th>\n",
       "      <td>0</td>\n",
       "      <td>18142.857143</td>\n",
       "    </tr>\n",
       "    <tr>\n",
       "      <th>2016-06-04</th>\n",
       "      <td>0</td>\n",
       "      <td>31714.285714</td>\n",
       "    </tr>\n",
       "    <tr>\n",
       "      <th>2016-06-05</th>\n",
       "      <td>0</td>\n",
       "      <td>10428.571429</td>\n",
       "    </tr>\n",
       "    <tr>\n",
       "      <th>...</th>\n",
       "      <td>...</td>\n",
       "      <td>...</td>\n",
       "    </tr>\n",
       "    <tr>\n",
       "      <th>2019-02-24</th>\n",
       "      <td>0</td>\n",
       "      <td>38571.428571</td>\n",
       "    </tr>\n",
       "    <tr>\n",
       "      <th>2019-02-25</th>\n",
       "      <td>3</td>\n",
       "      <td>39714.285714</td>\n",
       "    </tr>\n",
       "    <tr>\n",
       "      <th>2019-02-26</th>\n",
       "      <td>0</td>\n",
       "      <td>0.000000</td>\n",
       "    </tr>\n",
       "    <tr>\n",
       "      <th>2019-02-27</th>\n",
       "      <td>0</td>\n",
       "      <td>9857.142857</td>\n",
       "    </tr>\n",
       "    <tr>\n",
       "      <th>2019-02-28</th>\n",
       "      <td>0</td>\n",
       "      <td>22714.285714</td>\n",
       "    </tr>\n",
       "  </tbody>\n",
       "</table>\n",
       "<p>1003 rows × 2 columns</p>\n",
       "</div>"
      ],
      "text/plain": [
       "                 installment_term        amount\n",
       "transacted_date                                \n",
       "2016-06-01                      0  12571.428571\n",
       "2016-06-02                      0  40571.428571\n",
       "2016-06-03                      0  18142.857143\n",
       "2016-06-04                      0  31714.285714\n",
       "2016-06-05                      0  10428.571429\n",
       "...                           ...           ...\n",
       "2019-02-24                      0  38571.428571\n",
       "2019-02-25                      3  39714.285714\n",
       "2019-02-26                      0      0.000000\n",
       "2019-02-27                      0   9857.142857\n",
       "2019-02-28                      0  22714.285714\n",
       "\n",
       "[1003 rows x 2 columns]"
      ]
     },
     "execution_count": 98,
     "metadata": {},
     "output_type": "execute_result"
    }
   ],
   "source": [
    "df_train[df_train.store_id==0][['installment_term','amount']].resample(rule='d').sum()"
   ]
  },
  {
   "cell_type": "code",
   "execution_count": 122,
   "metadata": {},
   "outputs": [
    {
     "data": {
      "text/plain": [
       "transacted_date\n",
       "2016-06-01    기타 미용업\n",
       "2016-06-01    기타 미용업\n",
       "2016-06-01    기타 미용업\n",
       "2016-06-01    기타 미용업\n",
       "2016-06-02    기타 미용업\n",
       "               ...  \n",
       "2019-02-28    기타 미용업\n",
       "2019-02-28    기타 미용업\n",
       "2019-02-28    기타 미용업\n",
       "2019-02-28    기타 미용업\n",
       "2019-02-28    기타 미용업\n",
       "Name: type_of_business, Length: 4481, dtype: object"
      ]
     },
     "execution_count": 122,
     "metadata": {},
     "output_type": "execute_result"
    }
   ],
   "source": [
    "df_train[df_train.store_id==0].type_of_business"
   ]
  },
  {
   "cell_type": "code",
   "execution_count": 132,
   "metadata": {},
   "outputs": [
    {
     "data": {
      "text/html": [
       "<div>\n",
       "<style scoped>\n",
       "    .dataframe tbody tr th:only-of-type {\n",
       "        vertical-align: middle;\n",
       "    }\n",
       "\n",
       "    .dataframe tbody tr th {\n",
       "        vertical-align: top;\n",
       "    }\n",
       "\n",
       "    .dataframe thead th {\n",
       "        text-align: right;\n",
       "    }\n",
       "</style>\n",
       "<table border=\"1\" class=\"dataframe\">\n",
       "  <thead>\n",
       "    <tr style=\"text-align: right;\">\n",
       "      <th></th>\n",
       "      <th>type_of_business</th>\n",
       "    </tr>\n",
       "  </thead>\n",
       "  <tbody>\n",
       "    <tr>\n",
       "      <th>2016-06-01</th>\n",
       "      <td>기타 미용업</td>\n",
       "    </tr>\n",
       "    <tr>\n",
       "      <th>2016-06-01</th>\n",
       "      <td>기타 미용업</td>\n",
       "    </tr>\n",
       "    <tr>\n",
       "      <th>2016-06-01</th>\n",
       "      <td>기타 미용업</td>\n",
       "    </tr>\n",
       "    <tr>\n",
       "      <th>2016-06-01</th>\n",
       "      <td>기타 미용업</td>\n",
       "    </tr>\n",
       "    <tr>\n",
       "      <th>2016-06-02</th>\n",
       "      <td>기타 미용업</td>\n",
       "    </tr>\n",
       "    <tr>\n",
       "      <th>...</th>\n",
       "      <td>...</td>\n",
       "    </tr>\n",
       "    <tr>\n",
       "      <th>2019-02-28</th>\n",
       "      <td>기타 미용업</td>\n",
       "    </tr>\n",
       "    <tr>\n",
       "      <th>2019-02-28</th>\n",
       "      <td>기타 미용업</td>\n",
       "    </tr>\n",
       "    <tr>\n",
       "      <th>2019-02-28</th>\n",
       "      <td>기타 미용업</td>\n",
       "    </tr>\n",
       "    <tr>\n",
       "      <th>2019-02-28</th>\n",
       "      <td>기타 미용업</td>\n",
       "    </tr>\n",
       "    <tr>\n",
       "      <th>2019-02-28</th>\n",
       "      <td>기타 미용업</td>\n",
       "    </tr>\n",
       "  </tbody>\n",
       "</table>\n",
       "<p>4481 rows × 1 columns</p>\n",
       "</div>"
      ],
      "text/plain": [
       "           type_of_business\n",
       "2016-06-01           기타 미용업\n",
       "2016-06-01           기타 미용업\n",
       "2016-06-01           기타 미용업\n",
       "2016-06-01           기타 미용업\n",
       "2016-06-02           기타 미용업\n",
       "...                     ...\n",
       "2019-02-28           기타 미용업\n",
       "2019-02-28           기타 미용업\n",
       "2019-02-28           기타 미용업\n",
       "2019-02-28           기타 미용업\n",
       "2019-02-28           기타 미용업\n",
       "\n",
       "[4481 rows x 1 columns]"
      ]
     },
     "execution_count": 132,
     "metadata": {},
     "output_type": "execute_result"
    }
   ],
   "source": [
    "pd.concat([pd.DataFrame(),df_train[df_train.store_id==0].type_of_business],axis=1)"
   ]
  },
  {
   "cell_type": "code",
   "execution_count": 144,
   "metadata": {},
   "outputs": [],
   "source": [
    "def resample_day(train_df):\n",
    "    df_day = pd.DataFrame()\n",
    "    for i in train_df.store_id.unique():\n",
    "        df_num = train_df[train_df.store_id == i]  # store_id별 데이터\n",
    "\n",
    "        count_cols = df_num['card_id'].resample(rule='d').count().rename('num_of_pay')  # 일별로 card_id의 개수를 카운팅해서 '일 거래 횟수' 확인\n",
    "        # 'card_id' value count가 2보다 크면 단골인 것으로 판단하고 단골 방문 횟수 확인\n",
    "        revisit_idx = df_num.card_id.value_counts().reset_index().query(\"card_id > 2\")[\"index\"].values   # value count가 2보다 큰 card_id를 가져옴.\n",
    "        revisit_ct = df_num[df_num.card_id.isin(revisit_idx)].card_id.resample(rule='d').count().rename('num_of_revisit')    # 단골 방문횟수 \n",
    "        sum_cols = df_num[['installment_term', 'amount']].resample(rule='d').sum() # 할부 개월수와 매출액은 일 단위로 합\n",
    "\n",
    "        df_num_day = pd.concat([count_cols, revisit_ct, sum_cols], axis=1)\n",
    "\n",
    "        df_num_day.insert(0, 'store_id', i)   # 첫번째 컬럼에 store_id를 삽입\n",
    "        df_num_day.insert(4, 'region', df_num[df_num.store_id == i].region.unique()[0])    # 다섯번째 컬럼에 region을 삽입\n",
    "        df_num_day.insert(5, 'type_of_business', df_num[df_num.store_id == i].type_of_business.unique()[0])  # 여섯번째 컬럼에 type_of_business 삽입\n",
    "\n",
    "        df_day = pd.concat([df_day, df_num_day], axis=0)   # 데이터프레임 concat\n",
    "        \n",
    "    df_day.insert(1, 'day_of_week', df_day.index.dayofweek)\n",
    "    df_day.insert(2, 'business_day', df_day.day_of_week.replace({0:1, 2:1, 3:1, 4:1, 5:0, 6:0}).values)\n",
    "    df_day.num_of_revisit.fillna(0, inplace=True)\n",
    "    \n",
    "    return df_day"
   ]
  },
  {
   "cell_type": "code",
   "execution_count": 145,
   "metadata": {},
   "outputs": [
    {
     "name": "stdout",
     "output_type": "stream",
     "text": [
      "CPU times: user 2min 35s, sys: 1min 24s, total: 3min 59s\n",
      "Wall time: 4min 5s\n"
     ]
    }
   ],
   "source": [
    "%%time\n",
    "df_day = resample_day(df_train)"
   ]
  },
  {
   "cell_type": "code",
   "execution_count": 146,
   "metadata": {},
   "outputs": [
    {
     "ename": "NameError",
     "evalue": "name 'df_day' is not defined",
     "output_type": "error",
     "traceback": [
      "\u001b[0;31m---------------------------------------------------------------------------\u001b[0m",
      "\u001b[0;31mNameError\u001b[0m                                 Traceback (most recent call last)",
      "\u001b[0;32m<ipython-input-146-1c8cc5004c67>\u001b[0m in \u001b[0;36m<module>\u001b[0;34m\u001b[0m\n\u001b[0;32m----> 1\u001b[0;31m \u001b[0mdf_day\u001b[0m\u001b[0;34m.\u001b[0m\u001b[0mhead\u001b[0m\u001b[0;34m(\u001b[0m\u001b[0;34m)\u001b[0m\u001b[0;34m\u001b[0m\u001b[0;34m\u001b[0m\u001b[0m\n\u001b[0m",
      "\u001b[0;31mNameError\u001b[0m: name 'df_day' is not defined"
     ]
    }
   ],
   "source": [
    "df_day.head()"
   ]
  },
  {
   "cell_type": "code",
   "execution_count": null,
   "metadata": {},
   "outputs": [],
   "source": [
    "resample_day(df_train)"
   ]
  },
  {
   "cell_type": "code",
   "execution_count": null,
   "metadata": {},
   "outputs": [],
   "source": [
    "df_day.isnull().sum()"
   ]
  },
  {
   "cell_type": "code",
   "execution_count": null,
   "metadata": {},
   "outputs": [],
   "source": [
    "df_day.to_csv('./data/funda_train_day.csv')"
   ]
  },
  {
   "cell_type": "code",
   "execution_count": null,
   "metadata": {},
   "outputs": [],
   "source": [
    "df_day = pd.read_csv('./data/funda_train_day.csv')\n",
    "df_day['transacted_date'] = pd.to_datetime(df_day['transacted_date'])\n",
    "df_day = df_day.set_index('transacted_date')"
   ]
  },
  {
   "cell_type": "markdown",
   "metadata": {},
   "source": [
    "각 column간 상관 관계 확인"
   ]
  },
  {
   "cell_type": "code",
   "execution_count": null,
   "metadata": {},
   "outputs": [],
   "source": []
  },
  {
   "cell_type": "code",
   "execution_count": null,
   "metadata": {},
   "outputs": [],
   "source": []
  },
  {
   "cell_type": "markdown",
   "metadata": {},
   "source": [
    "### Modeling을 위해 Month 단위로 resampling"
   ]
  },
  {
   "cell_type": "code",
   "execution_count": null,
   "metadata": {},
   "outputs": [],
   "source": [
    "df_day.head(3)"
   ]
  },
  {
   "cell_type": "code",
   "execution_count": null,
   "metadata": {},
   "outputs": [],
   "source": [
    "def resample_month(frame_day):\n",
    "    sum_cols = ['num_of_pay', 'num_of_revisit', 'installment_term', 'amount']\n",
    "\n",
    "    df_monthly = pd.DataFrame()\n",
    "\n",
    "    for i in frame_day.store_id.unique():\n",
    "        df_set = frame_day[frame_day.store_id == i]\n",
    "        \n",
    "        # nan값이 발생하는 경우를 없애기 위해 이전, 이후 달에 대한 정보를 추가한 후 제거\n",
    "        prev_date = pd.date_range(start=(df_set.index[0] - relativedelta(months=1)), end=(df_set.index[0] - relativedelta(months=1)))\n",
    "        add_date = pd.date_range(start=(df_set.index[-1] + relativedelta(months=1)), end=(df_set.index[-1] + relativedelta(months=1)))\n",
    "        df_set = pd.concat([pd.DataFrame(index=prev_date), df_set, pd.DataFrame(index=add_date)], axis=0)\n",
    "\n",
    "        df_set.loc[dt.strftime(df_set.index[0], '%Y-%m'), :] = 1\n",
    "        df_set.loc[dt.strftime(df_set.index[-1], '%Y-%m'), :] = 1\n",
    "\n",
    "        tot_day = df_set[df_set.amount != 0].day_of_week.resample(rule='m').count().rename('real_tot_day')\n",
    "        business = df_set[df_set.amount != 0].business_day.resample(rule='m').sum().rename('real_business_day')\n",
    "\n",
    "        business = business.drop([business.index[0], business.index[-1]], axis=0)\n",
    "        tot_day = tot_day.drop([tot_day.index[0], tot_day.index[-1]], axis=0)\n",
    "        df_set = df_set.drop([df_set.index[0], df_set.index[-1]], axis=0)\n",
    "\n",
    "        df = pd.concat([tot_day, business, df_set[sum_cols].resample(rule='m').sum()], axis=1)\n",
    "\n",
    "        df.insert(0, 'store_id', i)\n",
    "        df.insert(6, 'region', df_set.region.values[0])\n",
    "        df.insert(7, 'type_of_business', df_set.type_of_business.values[0])\n",
    "\n",
    "        df_monthly = pd.concat([df_monthly, df], axis=0)\n",
    "   \n",
    "    return df_monthly"
   ]
  },
  {
   "cell_type": "code",
   "execution_count": null,
   "metadata": {},
   "outputs": [],
   "source": []
  },
  {
   "cell_type": "code",
   "execution_count": null,
   "metadata": {},
   "outputs": [],
   "source": []
  },
  {
   "cell_type": "code",
   "execution_count": null,
   "metadata": {},
   "outputs": [],
   "source": []
  }
 ],
 "metadata": {
  "kernelspec": {
   "display_name": "suhyun2",
   "language": "python",
   "name": "suhyun2"
  },
  "language_info": {
   "codemirror_mode": {
    "name": "ipython",
    "version": 3
   },
   "file_extension": ".py",
   "mimetype": "text/x-python",
   "name": "python",
   "nbconvert_exporter": "python",
   "pygments_lexer": "ipython3",
   "version": "3.6.8"
  }
 },
 "nbformat": 4,
 "nbformat_minor": 2
}
