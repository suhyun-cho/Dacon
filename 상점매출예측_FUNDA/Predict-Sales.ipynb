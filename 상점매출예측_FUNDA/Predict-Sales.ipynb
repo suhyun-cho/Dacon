{
 "cells": [
  {
   "cell_type": "markdown",
   "metadata": {},
   "source": [
    "## 펀다_상점매출예측\n",
    "2020-04-14"
   ]
  },
  {
   "cell_type": "markdown",
   "metadata": {},
   "source": [
    "### 문제\n",
    "핀테크 기업인 ‘FUNDA(펀다)’는 상환 기간의 매출을 예측하여 신용 점수가 낮거나 담보를 가지지 못하는 우수 상점들에 금융 기회를 제공하려 합니다.\n",
    " \n",
    "이번 대회에서는 2년 전 부터 2019년 2월 28일까지의 카드 거래 데이터를 이용해 2019-03-01부터 2019-05-31까지의 각 상점별 3개월 총 매출을 예측하는 것입니다.\n",
    "\n",
    "### Data\n",
    "* store_id : 상점의 고유 아이디\n",
    "* card_id : 사용한 카드의 고유 아이디\n",
    "* card_company : 비식별화된 카드 회사\n",
    "* transacted_date: 거래 날짜\n",
    "* transacted_time : 거래 시간 (시:분)\n",
    "* installment_term : 할부 개월 수( 포인트 사용 시 (60개월 + 실제할부개월)을 할부개월수에 기재한다. )\n",
    "* region : 상점의 지역\n",
    "* type_of_business:상점의 업종\n",
    "* amount : 거래액(단위는 원이 아닙니다)\n",
    "\n",
    "**[참고자료]**<br>\n",
    "1. 딥러닝과 통계모델을 이용한 T-커머스 매출예측 <br>\n",
    "http://kiise.or.kr/e_journal/2017/8/JOK/pdf/07.pdf"
   ]
  },
  {
   "cell_type": "code",
   "execution_count": 18,
   "metadata": {},
   "outputs": [],
   "source": [
    "import pandas as pd\n",
    "import numpy as np\n",
    "import matplotlib as mpl\n",
    "import matplotlib.pyplot as plt\n",
    "import seaborn as sns\n",
    "from scipy import stats\n",
    "color = sns.color_palette()\n",
    "import warnings\n",
    "warnings.filterwarnings(\"ignore\")\n",
    "\n",
    "# 노트북 안에 그래프를 그리기 위해\n",
    "%matplotlib inline\n",
    "\n",
    "# 그래프에서 격자로 숫자 범위가 눈에 잘 띄도록 ggplot 스타일을 사용\n",
    "plt.style.use('ggplot')"
   ]
  },
  {
   "cell_type": "code",
   "execution_count": 3,
   "metadata": {},
   "outputs": [],
   "source": [
    "# warning 무시\n",
    "import warnings\n",
    "warnings.filterwarnings(action='ignore')"
   ]
  },
  {
   "cell_type": "markdown",
   "metadata": {},
   "source": [
    "### 한글폰트 깨짐 문제\n"
   ]
  },
  {
   "cell_type": "code",
   "execution_count": 53,
   "metadata": {},
   "outputs": [],
   "source": [
    "import matplotlib.pyplot as plt\n",
    "from matplotlib import rc\n",
    "rc('font', family='AppleGothic')\n",
    "plt.rcParams['axes.unicode_minus'] = False"
   ]
  },
  {
   "cell_type": "markdown",
   "metadata": {},
   "source": [
    "### 데이터 불러오기"
   ]
  },
  {
   "cell_type": "code",
   "execution_count": 9,
   "metadata": {},
   "outputs": [
    {
     "data": {
      "text/plain": [
       "(6556613, 9)"
      ]
     },
     "execution_count": 9,
     "metadata": {},
     "output_type": "execute_result"
    }
   ],
   "source": [
    "train_df = pd.read_csv(\"./data/funda_train.csv\", parse_dates=[\"transacted_date\"])\n",
    "train_df.shape"
   ]
  },
  {
   "cell_type": "code",
   "execution_count": 10,
   "metadata": {},
   "outputs": [
    {
     "data": {
      "text/plain": [
       "(1967, 2)"
      ]
     },
     "execution_count": 10,
     "metadata": {},
     "output_type": "execute_result"
    }
   ],
   "source": [
    "# submission_df=pd.read_csv(\"./data/submission.csv\")\n",
    "# submission_df.shape"
   ]
  },
  {
   "cell_type": "code",
   "execution_count": 10,
   "metadata": {},
   "outputs": [
    {
     "data": {
      "text/html": [
       "<div>\n",
       "<style scoped>\n",
       "    .dataframe tbody tr th:only-of-type {\n",
       "        vertical-align: middle;\n",
       "    }\n",
       "\n",
       "    .dataframe tbody tr th {\n",
       "        vertical-align: top;\n",
       "    }\n",
       "\n",
       "    .dataframe thead th {\n",
       "        text-align: right;\n",
       "    }\n",
       "</style>\n",
       "<table border=\"1\" class=\"dataframe\">\n",
       "  <thead>\n",
       "    <tr style=\"text-align: right;\">\n",
       "      <th></th>\n",
       "      <th>store_id</th>\n",
       "      <th>card_id</th>\n",
       "      <th>card_company</th>\n",
       "      <th>transacted_date</th>\n",
       "      <th>transacted_time</th>\n",
       "      <th>installment_term</th>\n",
       "      <th>region</th>\n",
       "      <th>type_of_business</th>\n",
       "      <th>amount</th>\n",
       "    </tr>\n",
       "  </thead>\n",
       "  <tbody>\n",
       "    <tr>\n",
       "      <th>0</th>\n",
       "      <td>0</td>\n",
       "      <td>0</td>\n",
       "      <td>b</td>\n",
       "      <td>2016-06-01</td>\n",
       "      <td>13:13</td>\n",
       "      <td>0</td>\n",
       "      <td>NaN</td>\n",
       "      <td>기타 미용업</td>\n",
       "      <td>1857.142857</td>\n",
       "    </tr>\n",
       "    <tr>\n",
       "      <th>1</th>\n",
       "      <td>0</td>\n",
       "      <td>1</td>\n",
       "      <td>h</td>\n",
       "      <td>2016-06-01</td>\n",
       "      <td>18:12</td>\n",
       "      <td>0</td>\n",
       "      <td>NaN</td>\n",
       "      <td>기타 미용업</td>\n",
       "      <td>857.142857</td>\n",
       "    </tr>\n",
       "    <tr>\n",
       "      <th>2</th>\n",
       "      <td>0</td>\n",
       "      <td>2</td>\n",
       "      <td>c</td>\n",
       "      <td>2016-06-01</td>\n",
       "      <td>18:52</td>\n",
       "      <td>0</td>\n",
       "      <td>NaN</td>\n",
       "      <td>기타 미용업</td>\n",
       "      <td>2000.000000</td>\n",
       "    </tr>\n",
       "    <tr>\n",
       "      <th>3</th>\n",
       "      <td>0</td>\n",
       "      <td>3</td>\n",
       "      <td>a</td>\n",
       "      <td>2016-06-01</td>\n",
       "      <td>20:22</td>\n",
       "      <td>0</td>\n",
       "      <td>NaN</td>\n",
       "      <td>기타 미용업</td>\n",
       "      <td>7857.142857</td>\n",
       "    </tr>\n",
       "    <tr>\n",
       "      <th>4</th>\n",
       "      <td>0</td>\n",
       "      <td>4</td>\n",
       "      <td>c</td>\n",
       "      <td>2016-06-02</td>\n",
       "      <td>11:06</td>\n",
       "      <td>0</td>\n",
       "      <td>NaN</td>\n",
       "      <td>기타 미용업</td>\n",
       "      <td>2000.000000</td>\n",
       "    </tr>\n",
       "    <tr>\n",
       "      <th>...</th>\n",
       "      <td>...</td>\n",
       "      <td>...</td>\n",
       "      <td>...</td>\n",
       "      <td>...</td>\n",
       "      <td>...</td>\n",
       "      <td>...</td>\n",
       "      <td>...</td>\n",
       "      <td>...</td>\n",
       "      <td>...</td>\n",
       "    </tr>\n",
       "    <tr>\n",
       "      <th>6556608</th>\n",
       "      <td>2136</td>\n",
       "      <td>4663855</td>\n",
       "      <td>d</td>\n",
       "      <td>2019-02-28</td>\n",
       "      <td>23:20</td>\n",
       "      <td>0</td>\n",
       "      <td>제주 제주시</td>\n",
       "      <td>기타 주점업</td>\n",
       "      <td>-4500.000000</td>\n",
       "    </tr>\n",
       "    <tr>\n",
       "      <th>6556609</th>\n",
       "      <td>2136</td>\n",
       "      <td>4663855</td>\n",
       "      <td>d</td>\n",
       "      <td>2019-02-28</td>\n",
       "      <td>23:24</td>\n",
       "      <td>0</td>\n",
       "      <td>제주 제주시</td>\n",
       "      <td>기타 주점업</td>\n",
       "      <td>4142.857143</td>\n",
       "    </tr>\n",
       "    <tr>\n",
       "      <th>6556610</th>\n",
       "      <td>2136</td>\n",
       "      <td>4663489</td>\n",
       "      <td>a</td>\n",
       "      <td>2019-02-28</td>\n",
       "      <td>23:24</td>\n",
       "      <td>0</td>\n",
       "      <td>제주 제주시</td>\n",
       "      <td>기타 주점업</td>\n",
       "      <td>4500.000000</td>\n",
       "    </tr>\n",
       "    <tr>\n",
       "      <th>6556611</th>\n",
       "      <td>2136</td>\n",
       "      <td>4663856</td>\n",
       "      <td>d</td>\n",
       "      <td>2019-02-28</td>\n",
       "      <td>23:27</td>\n",
       "      <td>0</td>\n",
       "      <td>제주 제주시</td>\n",
       "      <td>기타 주점업</td>\n",
       "      <td>571.428571</td>\n",
       "    </tr>\n",
       "    <tr>\n",
       "      <th>6556612</th>\n",
       "      <td>2136</td>\n",
       "      <td>4658616</td>\n",
       "      <td>c</td>\n",
       "      <td>2019-02-28</td>\n",
       "      <td>23:54</td>\n",
       "      <td>0</td>\n",
       "      <td>제주 제주시</td>\n",
       "      <td>기타 주점업</td>\n",
       "      <td>5857.142857</td>\n",
       "    </tr>\n",
       "  </tbody>\n",
       "</table>\n",
       "<p>6556613 rows × 9 columns</p>\n",
       "</div>"
      ],
      "text/plain": [
       "         store_id  card_id card_company transacted_date transacted_time  \\\n",
       "0               0        0            b      2016-06-01           13:13   \n",
       "1               0        1            h      2016-06-01           18:12   \n",
       "2               0        2            c      2016-06-01           18:52   \n",
       "3               0        3            a      2016-06-01           20:22   \n",
       "4               0        4            c      2016-06-02           11:06   \n",
       "...           ...      ...          ...             ...             ...   \n",
       "6556608      2136  4663855            d      2019-02-28           23:20   \n",
       "6556609      2136  4663855            d      2019-02-28           23:24   \n",
       "6556610      2136  4663489            a      2019-02-28           23:24   \n",
       "6556611      2136  4663856            d      2019-02-28           23:27   \n",
       "6556612      2136  4658616            c      2019-02-28           23:54   \n",
       "\n",
       "         installment_term  region type_of_business       amount  \n",
       "0                       0     NaN           기타 미용업  1857.142857  \n",
       "1                       0     NaN           기타 미용업   857.142857  \n",
       "2                       0     NaN           기타 미용업  2000.000000  \n",
       "3                       0     NaN           기타 미용업  7857.142857  \n",
       "4                       0     NaN           기타 미용업  2000.000000  \n",
       "...                   ...     ...              ...          ...  \n",
       "6556608                 0  제주 제주시           기타 주점업 -4500.000000  \n",
       "6556609                 0  제주 제주시           기타 주점업  4142.857143  \n",
       "6556610                 0  제주 제주시           기타 주점업  4500.000000  \n",
       "6556611                 0  제주 제주시           기타 주점업   571.428571  \n",
       "6556612                 0  제주 제주시           기타 주점업  5857.142857  \n",
       "\n",
       "[6556613 rows x 9 columns]"
      ]
     },
     "execution_count": 10,
     "metadata": {},
     "output_type": "execute_result"
    }
   ],
   "source": [
    "train_df"
   ]
  },
  {
   "cell_type": "code",
   "execution_count": 24,
   "metadata": {},
   "outputs": [
    {
     "name": "stdout",
     "output_type": "stream",
     "text": [
      "<class 'pandas.core.frame.DataFrame'>\n",
      "RangeIndex: 6556613 entries, 0 to 6556612\n",
      "Data columns (total 9 columns):\n",
      " #   Column            Dtype         \n",
      "---  ------            -----         \n",
      " 0   store_id          int64         \n",
      " 1   card_id           int64         \n",
      " 2   card_company      object        \n",
      " 3   transacted_date   datetime64[ns]\n",
      " 4   transacted_time   object        \n",
      " 5   installment_term  int64         \n",
      " 6   region            object        \n",
      " 7   type_of_business  object        \n",
      " 8   amount            float64       \n",
      "dtypes: datetime64[ns](1), float64(1), int64(3), object(4)\n",
      "memory usage: 450.2+ MB\n"
     ]
    }
   ],
   "source": [
    "train_df.info()"
   ]
  },
  {
   "cell_type": "markdown",
   "metadata": {},
   "source": [
    "### 타겟변수 amount 살펴보기\n",
    "* 양 끝에 outlier가 있는것으로 보임. outlier 제거 필요."
   ]
  },
  {
   "cell_type": "code",
   "execution_count": 23,
   "metadata": {},
   "outputs": [
    {
     "data": {
      "image/png": "[encoded data removed]",
      "text/plain": [
       "<Figure size 576x432 with 1 Axes>"
      ]
     },
     "metadata": {
      "needs_background": "light"
     },
     "output_type": "display_data"
    }
   ],
   "source": [
    "plt.figure(figsize=(8,6))\n",
    "plt.scatter(range(train_df.shape[0]),np.sort(train_df['amount'].values))\n",
    "plt.xlabel('index',fontsize=12)\n",
    "plt.ylabel('amount',fontsize=12)\n",
    "plt.title('amount-value')\n",
    "plt.show()"
   ]
  },
  {
   "cell_type": "markdown",
   "metadata": {},
   "source": [
    "#### Outlier제거\n",
    "* percentile 기준으로 99percentile 초과, 1percentile 미만은 Outlier로 취급"
   ]
  },
  {
   "cell_type": "code",
   "execution_count": 98,
   "metadata": {},
   "outputs": [
    {
     "name": "stdout",
     "output_type": "stream",
     "text": [
      "108571.42857142855\n",
      "-157.1428571428571\n"
     ]
    }
   ],
   "source": [
    "### 99percentile 이상과 1 percentile 이하 제거할 경우 각각 6만5천 row정도 제거됨.\n",
    "ulimit = np.percentile(train_df['amount'].values, 99)\n",
    "llimit = np.percentile(train_df['amount'].values, 1)\n",
    "print(ulimit)\n",
    "print(llimit)"
   ]
  },
  {
   "cell_type": "code",
   "execution_count": 111,
   "metadata": {},
   "outputs": [
    {
     "name": "stdout",
     "output_type": "stream",
     "text": [
      "(6556613, 14)\n",
      "131438\n"
     ]
    }
   ],
   "source": [
    "print(train_df.shape)\n",
    "print(6556613-6425175)"
   ]
  },
  {
   "cell_type": "code",
   "execution_count": 120,
   "metadata": {},
   "outputs": [
    {
     "data": {
      "image/png": "[encoded data removed]",
      "text/plain": [
       "<Figure size 1440x576 with 2 Axes>"
      ]
     },
     "metadata": {},
     "output_type": "display_data"
    }
   ],
   "source": [
    "fig,(ax1,ax2)=plt.subplots(nrows=1, ncols=2)\n",
    "fig.set_size_inches(20,8)\n",
    "sns.distplot(train_df['amount'],bins=50,ax=ax1)\n",
    "sns.distplot(train_df['amount'][(train_df['amount']<ulimit) & (train_df['amount']>llimit)].values, bins=50,color=color[2],ax=ax2)\n",
    "ax1.set(xlabel='거래량',title='Outlier제거 전 원본 거래량')\n",
    "ax2.set(xlabel='거래량',title='Outlier제거 후 거래량')\n",
    "plt.show()"
   ]
  },
  {
   "cell_type": "markdown",
   "metadata": {},
   "source": [
    "### 결측치 확인"
   ]
  },
  {
   "cell_type": "code",
   "execution_count": 26,
   "metadata": {},
   "outputs": [
    {
     "data": {
      "text/plain": [
       "store_id                  0\n",
       "card_id                   0\n",
       "card_company              0\n",
       "transacted_date           0\n",
       "transacted_time           0\n",
       "installment_term          0\n",
       "region              2042766\n",
       "type_of_business    3952609\n",
       "amount                    0\n",
       "dtype: int64"
      ]
     },
     "execution_count": 26,
     "metadata": {},
     "output_type": "execute_result"
    }
   ],
   "source": [
    "# 결측치 확인 \n",
    "train_df.isnull().sum()"
   ]
  },
  {
   "cell_type": "code",
   "execution_count": 11,
   "metadata": {},
   "outputs": [
    {
     "data": {
      "text/plain": [
       "<matplotlib.axes._subplots.AxesSubplot at 0x1a329c7ef0>"
      ]
     },
     "execution_count": 11,
     "metadata": {},
     "output_type": "execute_result"
    },
    {
     "data": {
      "image/png": "[encoded data removed]",
      "text/plain": [
       "<Figure size 864x360 with 2 Axes>"
      ]
     },
     "metadata": {},
     "output_type": "display_data"
    }
   ],
   "source": [
    "import missingno as msno\n",
    "\n",
    "msno.matrix(train_df, figsize=(12,5))"
   ]
  },
  {
   "cell_type": "code",
   "execution_count": 22,
   "metadata": {},
   "outputs": [
    {
     "data": {
      "image/png": "[encoded data removed]",
      "text/plain": [
       "<Figure size 1440x576 with 3 Axes>"
      ]
     },
     "metadata": {},
     "output_type": "display_data"
    }
   ],
   "source": [
    "missingValueColumns=train_df.columns[train_df.isnull().any()].tolist()\n",
    "msno.bar(train_df[missingValueColumns],figsize=(20,8),color=color[5],fontsize=12,labels=True)\n",
    "plt.show()"
   ]
  },
  {
   "cell_type": "markdown",
   "metadata": {},
   "source": [
    "### 날짜,시간 컬럼 분리"
   ]
  },
  {
   "cell_type": "code",
   "execution_count": 32,
   "metadata": {},
   "outputs": [
    {
     "data": {
      "text/plain": [
       "0          13\n",
       "1          18\n",
       "2          18\n",
       "3          20\n",
       "4          11\n",
       "           ..\n",
       "6556608    23\n",
       "6556609    23\n",
       "6556610    23\n",
       "6556611    23\n",
       "6556612    23\n",
       "Name: transacted_time, Length: 6556613, dtype: int64"
      ]
     },
     "execution_count": 32,
     "metadata": {},
     "output_type": "execute_result"
    }
   ],
   "source": [
    "# transactied_time 컬럼은 시,분으로 이루어져있으므로 hour만 뽑아내기.\n",
    "pd.to_datetime(train_df['transacted_time'],format='%H:%M').dt.hour"
   ]
  },
  {
   "cell_type": "code",
   "execution_count": 35,
   "metadata": {},
   "outputs": [],
   "source": [
    "# 년도, 월, 일, 시간별 컬럼 분리\n",
    "train_df['year']=train_df['transacted_date'].dt.year\n",
    "train_df['month']=train_df['transacted_date'].dt.month\n",
    "train_df['day']=train_df['transacted_date'].dt.day\n",
    "train_df['hour']=pd.to_datetime(train_df['transacted_time'],format='%H:%M').dt.hour"
   ]
  },
  {
   "cell_type": "code",
   "execution_count": 37,
   "metadata": {},
   "outputs": [
    {
     "data": {
      "text/plain": [
       "(6556613, 13)"
      ]
     },
     "execution_count": 37,
     "metadata": {},
     "output_type": "execute_result"
    }
   ],
   "source": [
    "train_df.shape"
   ]
  },
  {
   "cell_type": "code",
   "execution_count": 38,
   "metadata": {},
   "outputs": [
    {
     "data": {
      "text/html": [
       "<div>\n",
       "<style scoped>\n",
       "    .dataframe tbody tr th:only-of-type {\n",
       "        vertical-align: middle;\n",
       "    }\n",
       "\n",
       "    .dataframe tbody tr th {\n",
       "        vertical-align: top;\n",
       "    }\n",
       "\n",
       "    .dataframe thead th {\n",
       "        text-align: right;\n",
       "    }\n",
       "</style>\n",
       "<table border=\"1\" class=\"dataframe\">\n",
       "  <thead>\n",
       "    <tr style=\"text-align: right;\">\n",
       "      <th></th>\n",
       "      <th>store_id</th>\n",
       "      <th>card_id</th>\n",
       "      <th>card_company</th>\n",
       "      <th>transacted_date</th>\n",
       "      <th>transacted_time</th>\n",
       "      <th>installment_term</th>\n",
       "      <th>region</th>\n",
       "      <th>type_of_business</th>\n",
       "      <th>amount</th>\n",
       "      <th>year</th>\n",
       "      <th>month</th>\n",
       "      <th>day</th>\n",
       "      <th>hour</th>\n",
       "    </tr>\n",
       "  </thead>\n",
       "  <tbody>\n",
       "    <tr>\n",
       "      <th>0</th>\n",
       "      <td>0</td>\n",
       "      <td>0</td>\n",
       "      <td>b</td>\n",
       "      <td>2016-06-01</td>\n",
       "      <td>13:13</td>\n",
       "      <td>0</td>\n",
       "      <td>NaN</td>\n",
       "      <td>기타 미용업</td>\n",
       "      <td>1857.142857</td>\n",
       "      <td>2016</td>\n",
       "      <td>6</td>\n",
       "      <td>1</td>\n",
       "      <td>13</td>\n",
       "    </tr>\n",
       "    <tr>\n",
       "      <th>1</th>\n",
       "      <td>0</td>\n",
       "      <td>1</td>\n",
       "      <td>h</td>\n",
       "      <td>2016-06-01</td>\n",
       "      <td>18:12</td>\n",
       "      <td>0</td>\n",
       "      <td>NaN</td>\n",
       "      <td>기타 미용업</td>\n",
       "      <td>857.142857</td>\n",
       "      <td>2016</td>\n",
       "      <td>6</td>\n",
       "      <td>1</td>\n",
       "      <td>18</td>\n",
       "    </tr>\n",
       "    <tr>\n",
       "      <th>2</th>\n",
       "      <td>0</td>\n",
       "      <td>2</td>\n",
       "      <td>c</td>\n",
       "      <td>2016-06-01</td>\n",
       "      <td>18:52</td>\n",
       "      <td>0</td>\n",
       "      <td>NaN</td>\n",
       "      <td>기타 미용업</td>\n",
       "      <td>2000.000000</td>\n",
       "      <td>2016</td>\n",
       "      <td>6</td>\n",
       "      <td>1</td>\n",
       "      <td>18</td>\n",
       "    </tr>\n",
       "    <tr>\n",
       "      <th>3</th>\n",
       "      <td>0</td>\n",
       "      <td>3</td>\n",
       "      <td>a</td>\n",
       "      <td>2016-06-01</td>\n",
       "      <td>20:22</td>\n",
       "      <td>0</td>\n",
       "      <td>NaN</td>\n",
       "      <td>기타 미용업</td>\n",
       "      <td>7857.142857</td>\n",
       "      <td>2016</td>\n",
       "      <td>6</td>\n",
       "      <td>1</td>\n",
       "      <td>20</td>\n",
       "    </tr>\n",
       "    <tr>\n",
       "      <th>4</th>\n",
       "      <td>0</td>\n",
       "      <td>4</td>\n",
       "      <td>c</td>\n",
       "      <td>2016-06-02</td>\n",
       "      <td>11:06</td>\n",
       "      <td>0</td>\n",
       "      <td>NaN</td>\n",
       "      <td>기타 미용업</td>\n",
       "      <td>2000.000000</td>\n",
       "      <td>2016</td>\n",
       "      <td>6</td>\n",
       "      <td>2</td>\n",
       "      <td>11</td>\n",
       "    </tr>\n",
       "  </tbody>\n",
       "</table>\n",
       "</div>"
      ],
      "text/plain": [
       "   store_id  card_id card_company transacted_date transacted_time  \\\n",
       "0         0        0            b      2016-06-01           13:13   \n",
       "1         0        1            h      2016-06-01           18:12   \n",
       "2         0        2            c      2016-06-01           18:52   \n",
       "3         0        3            a      2016-06-01           20:22   \n",
       "4         0        4            c      2016-06-02           11:06   \n",
       "\n",
       "   installment_term region type_of_business       amount  year  month  day  \\\n",
       "0                 0    NaN           기타 미용업  1857.142857  2016      6    1   \n",
       "1                 0    NaN           기타 미용업   857.142857  2016      6    1   \n",
       "2                 0    NaN           기타 미용업  2000.000000  2016      6    1   \n",
       "3                 0    NaN           기타 미용업  7857.142857  2016      6    1   \n",
       "4                 0    NaN           기타 미용업  2000.000000  2016      6    2   \n",
       "\n",
       "   hour  \n",
       "0    13  \n",
       "1    18  \n",
       "2    18  \n",
       "3    20  \n",
       "4    11  "
      ]
     },
     "execution_count": 38,
     "metadata": {},
     "output_type": "execute_result"
    }
   ],
   "source": [
    "train_df.head()"
   ]
  },
  {
   "cell_type": "markdown",
   "metadata": {},
   "source": [
    "(python문법) <br>\n",
    "* 리스트에는 map()함수를 적용하고, 데이터프레임에는 apply()함수 적용.\n",
    "* 사용자정의 함수를 만들어서 apply로 적용해도되고, apply(lambda x: )함수를 함께 사용해도됨."
   ]
  },
  {
   "cell_type": "code",
   "execution_count": 39,
   "metadata": {},
   "outputs": [],
   "source": [
    "# 년도-월 컬럼 생성\n",
    "def concatenate_year_month(datetime):\n",
    "    return \"{0}-{1}\".format(datetime.year,datetime.month)"
   ]
  },
  {
   "cell_type": "code",
   "execution_count": 45,
   "metadata": {},
   "outputs": [
    {
     "data": {
      "text/plain": [
       "0          2016-6\n",
       "1          2016-6\n",
       "2          2016-6\n",
       "3          2016-6\n",
       "4          2016-6\n",
       "            ...  \n",
       "6556608    2019-2\n",
       "6556609    2019-2\n",
       "6556610    2019-2\n",
       "6556611    2019-2\n",
       "6556612    2019-2\n",
       "Name: transacted_date, Length: 6556613, dtype: object"
      ]
     },
     "execution_count": 45,
     "metadata": {},
     "output_type": "execute_result"
    }
   ],
   "source": [
    "train_df['transacted_date'].apply(lambda x: \"{0}-{1}\".format(x.year,x.month))"
   ]
  },
  {
   "cell_type": "code",
   "execution_count": 40,
   "metadata": {},
   "outputs": [],
   "source": [
    "train_df['year_month']=train_df['transacted_date'].apply(concatenate_year_month)"
   ]
  },
  {
   "cell_type": "code",
   "execution_count": 47,
   "metadata": {},
   "outputs": [
    {
     "data": {
      "text/html": [
       "<div>\n",
       "<style scoped>\n",
       "    .dataframe tbody tr th:only-of-type {\n",
       "        vertical-align: middle;\n",
       "    }\n",
       "\n",
       "    .dataframe tbody tr th {\n",
       "        vertical-align: top;\n",
       "    }\n",
       "\n",
       "    .dataframe thead th {\n",
       "        text-align: right;\n",
       "    }\n",
       "</style>\n",
       "<table border=\"1\" class=\"dataframe\">\n",
       "  <thead>\n",
       "    <tr style=\"text-align: right;\">\n",
       "      <th></th>\n",
       "      <th>store_id</th>\n",
       "      <th>card_id</th>\n",
       "      <th>card_company</th>\n",
       "      <th>transacted_date</th>\n",
       "      <th>transacted_time</th>\n",
       "      <th>installment_term</th>\n",
       "      <th>region</th>\n",
       "      <th>type_of_business</th>\n",
       "      <th>amount</th>\n",
       "      <th>year</th>\n",
       "      <th>month</th>\n",
       "      <th>day</th>\n",
       "      <th>hour</th>\n",
       "      <th>year_month</th>\n",
       "    </tr>\n",
       "  </thead>\n",
       "  <tbody>\n",
       "    <tr>\n",
       "      <th>0</th>\n",
       "      <td>0</td>\n",
       "      <td>0</td>\n",
       "      <td>b</td>\n",
       "      <td>2016-06-01</td>\n",
       "      <td>13:13</td>\n",
       "      <td>0</td>\n",
       "      <td>NaN</td>\n",
       "      <td>기타 미용업</td>\n",
       "      <td>1857.142857</td>\n",
       "      <td>2016</td>\n",
       "      <td>6</td>\n",
       "      <td>1</td>\n",
       "      <td>13</td>\n",
       "      <td>2016-6</td>\n",
       "    </tr>\n",
       "    <tr>\n",
       "      <th>1</th>\n",
       "      <td>0</td>\n",
       "      <td>1</td>\n",
       "      <td>h</td>\n",
       "      <td>2016-06-01</td>\n",
       "      <td>18:12</td>\n",
       "      <td>0</td>\n",
       "      <td>NaN</td>\n",
       "      <td>기타 미용업</td>\n",
       "      <td>857.142857</td>\n",
       "      <td>2016</td>\n",
       "      <td>6</td>\n",
       "      <td>1</td>\n",
       "      <td>18</td>\n",
       "      <td>2016-6</td>\n",
       "    </tr>\n",
       "    <tr>\n",
       "      <th>2</th>\n",
       "      <td>0</td>\n",
       "      <td>2</td>\n",
       "      <td>c</td>\n",
       "      <td>2016-06-01</td>\n",
       "      <td>18:52</td>\n",
       "      <td>0</td>\n",
       "      <td>NaN</td>\n",
       "      <td>기타 미용업</td>\n",
       "      <td>2000.000000</td>\n",
       "      <td>2016</td>\n",
       "      <td>6</td>\n",
       "      <td>1</td>\n",
       "      <td>18</td>\n",
       "      <td>2016-6</td>\n",
       "    </tr>\n",
       "    <tr>\n",
       "      <th>3</th>\n",
       "      <td>0</td>\n",
       "      <td>3</td>\n",
       "      <td>a</td>\n",
       "      <td>2016-06-01</td>\n",
       "      <td>20:22</td>\n",
       "      <td>0</td>\n",
       "      <td>NaN</td>\n",
       "      <td>기타 미용업</td>\n",
       "      <td>7857.142857</td>\n",
       "      <td>2016</td>\n",
       "      <td>6</td>\n",
       "      <td>1</td>\n",
       "      <td>20</td>\n",
       "      <td>2016-6</td>\n",
       "    </tr>\n",
       "    <tr>\n",
       "      <th>4</th>\n",
       "      <td>0</td>\n",
       "      <td>4</td>\n",
       "      <td>c</td>\n",
       "      <td>2016-06-02</td>\n",
       "      <td>11:06</td>\n",
       "      <td>0</td>\n",
       "      <td>NaN</td>\n",
       "      <td>기타 미용업</td>\n",
       "      <td>2000.000000</td>\n",
       "      <td>2016</td>\n",
       "      <td>6</td>\n",
       "      <td>2</td>\n",
       "      <td>11</td>\n",
       "      <td>2016-6</td>\n",
       "    </tr>\n",
       "  </tbody>\n",
       "</table>\n",
       "</div>"
      ],
      "text/plain": [
       "   store_id  card_id card_company transacted_date transacted_time  \\\n",
       "0         0        0            b      2016-06-01           13:13   \n",
       "1         0        1            h      2016-06-01           18:12   \n",
       "2         0        2            c      2016-06-01           18:52   \n",
       "3         0        3            a      2016-06-01           20:22   \n",
       "4         0        4            c      2016-06-02           11:06   \n",
       "\n",
       "   installment_term region type_of_business       amount  year  month  day  \\\n",
       "0                 0    NaN           기타 미용업  1857.142857  2016      6    1   \n",
       "1                 0    NaN           기타 미용업   857.142857  2016      6    1   \n",
       "2                 0    NaN           기타 미용업  2000.000000  2016      6    1   \n",
       "3                 0    NaN           기타 미용업  7857.142857  2016      6    1   \n",
       "4                 0    NaN           기타 미용업  2000.000000  2016      6    2   \n",
       "\n",
       "   hour year_month  \n",
       "0    13     2016-6  \n",
       "1    18     2016-6  \n",
       "2    18     2016-6  \n",
       "3    20     2016-6  \n",
       "4    11     2016-6  "
      ]
     },
     "execution_count": 47,
     "metadata": {},
     "output_type": "execute_result"
    }
   ],
   "source": [
    "train_df.head()"
   ]
  },
  {
   "cell_type": "markdown",
   "metadata": {},
   "source": [
    "### 년-월-일-시간 별 거래량"
   ]
  },
  {
   "cell_type": "code",
   "execution_count": 52,
   "metadata": {},
   "outputs": [
    {
     "data": {
      "image/png": "[encoded data removed]",
      "text/plain": [
       "<Figure size 1440x576 with 4 Axes>"
      ]
     },
     "metadata": {},
     "output_type": "display_data"
    }
   ],
   "source": [
    "fig,((ax1,ax2),(ax3,ax4))=plt.subplots(nrows=2,ncols=2)\n",
    "fig.set_size_inches(20,8)\n",
    "sns.barplot(data=train_df,x=\"year\",y=\"amount\",ax=ax1)\n",
    "sns.barplot(data=train_df,x=\"month\",y=\"amount\",ax=ax2)\n",
    "sns.barplot(data=train_df,x=\"day\",y=\"amount\",ax=ax3)\n",
    "sns.barplot(data=train_df,x=\"hour\",y=\"amount\",ax=ax4)\n",
    "\n",
    "ax1.set(xlabel='year',ylabel='amount',title='amount-by-year')\n",
    "ax2.set(xlabel='month',ylabel='amount',title='amount-by-month')\n",
    "ax3.set(xlabel='day',ylabel='amount',title='amount-by-day')\n",
    "ax4.set(xlabel='hour',ylabel='amount',title='amount-by-hour')\n",
    "plt.show()"
   ]
  },
  {
   "cell_type": "code",
   "execution_count": 56,
   "metadata": {},
   "outputs": [
    {
     "data": {
      "image/png": "[encoded data removed]",
      "text/plain": [
       "<Figure size 1440x576 with 1 Axes>"
      ]
     },
     "metadata": {},
     "output_type": "display_data"
    }
   ],
   "source": [
    "plt.figure(figsize=(20,8))\n",
    "sns.barplot(data=train_df,x=\"year_month\",y=\"amount\")\n",
    "plt.xlabel('년도-월',fontsize=12)\n",
    "plt.ylabel('거래량',fontsize=12)\n",
    "plt.title('년,월 별 거래량')\n",
    "plt.show()"
   ]
  },
  {
   "cell_type": "markdown",
   "metadata": {},
   "source": [
    "#### 매출이 높은 상점의 업종 TOP10 \n",
    "* 의약품 도매업, 기타 산업용 농산물 도매업, 경영컨설팅업, 일반 병원 등이 높은 업종으로 나타남."
   ]
  },
  {
   "cell_type": "code",
   "execution_count": 125,
   "metadata": {},
   "outputs": [
    {
     "data": {
      "text/html": [
       "<div>\n",
       "<style scoped>\n",
       "    .dataframe tbody tr th:only-of-type {\n",
       "        vertical-align: middle;\n",
       "    }\n",
       "\n",
       "    .dataframe tbody tr th {\n",
       "        vertical-align: top;\n",
       "    }\n",
       "\n",
       "    .dataframe thead th {\n",
       "        text-align: right;\n",
       "    }\n",
       "</style>\n",
       "<table border=\"1\" class=\"dataframe\">\n",
       "  <thead>\n",
       "    <tr style=\"text-align: right;\">\n",
       "      <th></th>\n",
       "      <th>type_of_business</th>\n",
       "      <th>amount</th>\n",
       "    </tr>\n",
       "  </thead>\n",
       "  <tbody>\n",
       "    <tr>\n",
       "      <th>0</th>\n",
       "      <td>의약품 도매업</td>\n",
       "      <td>354632.638674</td>\n",
       "    </tr>\n",
       "    <tr>\n",
       "      <th>1</th>\n",
       "      <td>기타 산업용 농산물 도매업</td>\n",
       "      <td>276625.139388</td>\n",
       "    </tr>\n",
       "    <tr>\n",
       "      <th>2</th>\n",
       "      <td>경영 컨설팅업</td>\n",
       "      <td>150819.538148</td>\n",
       "    </tr>\n",
       "    <tr>\n",
       "      <th>3</th>\n",
       "      <td>일반 병원</td>\n",
       "      <td>135287.727565</td>\n",
       "    </tr>\n",
       "    <tr>\n",
       "      <th>4</th>\n",
       "      <td>주방용품 및 가정용 유리, 요업 제품 소매업</td>\n",
       "      <td>95901.011149</td>\n",
       "    </tr>\n",
       "    <tr>\n",
       "      <th>5</th>\n",
       "      <td>여행사업</td>\n",
       "      <td>83472.060730</td>\n",
       "    </tr>\n",
       "    <tr>\n",
       "      <th>6</th>\n",
       "      <td>상품 종합 도매업</td>\n",
       "      <td>73585.833643</td>\n",
       "    </tr>\n",
       "    <tr>\n",
       "      <th>7</th>\n",
       "      <td>의료용품 도매업</td>\n",
       "      <td>68497.066892</td>\n",
       "    </tr>\n",
       "    <tr>\n",
       "      <th>8</th>\n",
       "      <td>가구 소매업</td>\n",
       "      <td>67732.033782</td>\n",
       "    </tr>\n",
       "    <tr>\n",
       "      <th>9</th>\n",
       "      <td>귀금속 및 관련제품 제조업</td>\n",
       "      <td>63359.656169</td>\n",
       "    </tr>\n",
       "  </tbody>\n",
       "</table>\n",
       "</div>"
      ],
      "text/plain": [
       "           type_of_business         amount\n",
       "0                   의약품 도매업  354632.638674\n",
       "1            기타 산업용 농산물 도매업  276625.139388\n",
       "2                   경영 컨설팅업  150819.538148\n",
       "3                     일반 병원  135287.727565\n",
       "4  주방용품 및 가정용 유리, 요업 제품 소매업   95901.011149\n",
       "5                      여행사업   83472.060730\n",
       "6                 상품 종합 도매업   73585.833643\n",
       "7                  의료용품 도매업   68497.066892\n",
       "8                    가구 소매업   67732.033782\n",
       "9            귀금속 및 관련제품 제조업   63359.656169"
      ]
     },
     "execution_count": 125,
     "metadata": {},
     "output_type": "execute_result"
    }
   ],
   "source": [
    "# 매출이 높은 업종 10개\n",
    "train_df.groupby(['type_of_business'])['amount'].mean().sort_values(ascending=False)[:10].to_frame().reset_index()"
   ]
  },
  {
   "cell_type": "markdown",
   "metadata": {},
   "source": [
    "#### 매출이 낮은 상점의 업종 10\n",
    "* '의약품 도매업'은 매출이 가장 높았던 데 비해 '일반 의원'은 매출이 낮은 업종으로 분류\n",
    "* '귀금속 및 관련제품 제조업' 은 매출이 높았던 데 비해, '시계 및 귀금속 소매업'은 매출이 낮아보임."
   ]
  },
  {
   "cell_type": "code",
   "execution_count": 69,
   "metadata": {},
   "outputs": [
    {
     "data": {
      "text/html": [
       "<div>\n",
       "<style scoped>\n",
       "    .dataframe tbody tr th:only-of-type {\n",
       "        vertical-align: middle;\n",
       "    }\n",
       "\n",
       "    .dataframe tbody tr th {\n",
       "        vertical-align: top;\n",
       "    }\n",
       "\n",
       "    .dataframe thead th {\n",
       "        text-align: right;\n",
       "    }\n",
       "</style>\n",
       "<table border=\"1\" class=\"dataframe\">\n",
       "  <thead>\n",
       "    <tr style=\"text-align: right;\">\n",
       "      <th></th>\n",
       "      <th>amount</th>\n",
       "    </tr>\n",
       "    <tr>\n",
       "      <th>type_of_business</th>\n",
       "      <th></th>\n",
       "    </tr>\n",
       "  </thead>\n",
       "  <tbody>\n",
       "    <tr>\n",
       "      <th>제과점업</th>\n",
       "      <td>913.737800</td>\n",
       "    </tr>\n",
       "    <tr>\n",
       "      <th>일반 의원</th>\n",
       "      <td>1406.982724</td>\n",
       "    </tr>\n",
       "    <tr>\n",
       "      <th>체인화 편의점</th>\n",
       "      <td>1593.218107</td>\n",
       "    </tr>\n",
       "    <tr>\n",
       "      <th>떡류 제조업</th>\n",
       "      <td>1825.979464</td>\n",
       "    </tr>\n",
       "    <tr>\n",
       "      <th>비알코올 음료점업</th>\n",
       "      <td>1970.210406</td>\n",
       "    </tr>\n",
       "    <tr>\n",
       "      <th>신선식품 및 단순 가공식품 도매업</th>\n",
       "      <td>2191.892393</td>\n",
       "    </tr>\n",
       "    <tr>\n",
       "      <th>당구장 운영업</th>\n",
       "      <td>2216.566487</td>\n",
       "    </tr>\n",
       "    <tr>\n",
       "      <th>그 외 기타 나무제품 제조업</th>\n",
       "      <td>2469.602340</td>\n",
       "    </tr>\n",
       "    <tr>\n",
       "      <th>중식 음식점업</th>\n",
       "      <td>2504.806029</td>\n",
       "    </tr>\n",
       "    <tr>\n",
       "      <th>시계 및 귀금속 소매업</th>\n",
       "      <td>2515.450311</td>\n",
       "    </tr>\n",
       "  </tbody>\n",
       "</table>\n",
       "</div>"
      ],
      "text/plain": [
       "                         amount\n",
       "type_of_business               \n",
       "제과점업                 913.737800\n",
       "일반 의원               1406.982724\n",
       "체인화 편의점             1593.218107\n",
       "떡류 제조업              1825.979464\n",
       "비알코올 음료점업           1970.210406\n",
       "신선식품 및 단순 가공식품 도매업  2191.892393\n",
       "당구장 운영업             2216.566487\n",
       "그 외 기타 나무제품 제조업     2469.602340\n",
       "중식 음식점업             2504.806029\n",
       "시계 및 귀금속 소매업        2515.450311"
      ]
     },
     "execution_count": 69,
     "metadata": {},
     "output_type": "execute_result"
    }
   ],
   "source": [
    "# 매출이 낮은 업종 10개\n",
    "train_df.groupby(['type_of_business'])['amount'].mean().sort_values(ascending=True)[:10].to_frame()"
   ]
  },
  {
   "cell_type": "markdown",
   "metadata": {},
   "source": [
    "#### 매출이 높은 상점의 지역\n",
    "* 의외로 서울이 아닌 '경기 과천', '전남 완도군' 이 매출이 가장 높게나옴.\n",
    "* 서울 강남구는 상위 5위에 속함"
   ]
  },
  {
   "cell_type": "code",
   "execution_count": 73,
   "metadata": {},
   "outputs": [
    {
     "data": {
      "text/html": [
       "<div>\n",
       "<style scoped>\n",
       "    .dataframe tbody tr th:only-of-type {\n",
       "        vertical-align: middle;\n",
       "    }\n",
       "\n",
       "    .dataframe tbody tr th {\n",
       "        vertical-align: top;\n",
       "    }\n",
       "\n",
       "    .dataframe thead th {\n",
       "        text-align: right;\n",
       "    }\n",
       "</style>\n",
       "<table border=\"1\" class=\"dataframe\">\n",
       "  <thead>\n",
       "    <tr style=\"text-align: right;\">\n",
       "      <th></th>\n",
       "      <th>amount</th>\n",
       "    </tr>\n",
       "    <tr>\n",
       "      <th>region</th>\n",
       "      <th></th>\n",
       "    </tr>\n",
       "  </thead>\n",
       "  <tbody>\n",
       "    <tr>\n",
       "      <th>경기 과천시</th>\n",
       "      <td>58984.756834</td>\n",
       "    </tr>\n",
       "    <tr>\n",
       "      <th>전남 완도군</th>\n",
       "      <td>45119.572058</td>\n",
       "    </tr>\n",
       "    <tr>\n",
       "      <th>서울 광진구</th>\n",
       "      <td>44420.386452</td>\n",
       "    </tr>\n",
       "    <tr>\n",
       "      <th>경북 상주시</th>\n",
       "      <td>38071.436932</td>\n",
       "    </tr>\n",
       "    <tr>\n",
       "      <th>서울 강남구</th>\n",
       "      <td>33144.933447</td>\n",
       "    </tr>\n",
       "    <tr>\n",
       "      <th>경기 김포시</th>\n",
       "      <td>27419.659890</td>\n",
       "    </tr>\n",
       "    <tr>\n",
       "      <th>전남 담양군</th>\n",
       "      <td>26967.862115</td>\n",
       "    </tr>\n",
       "    <tr>\n",
       "      <th>부산 기장군</th>\n",
       "      <td>24468.758484</td>\n",
       "    </tr>\n",
       "    <tr>\n",
       "      <th>충북 옥천군</th>\n",
       "      <td>23071.366091</td>\n",
       "    </tr>\n",
       "    <tr>\n",
       "      <th>경기 용인시</th>\n",
       "      <td>22128.524789</td>\n",
       "    </tr>\n",
       "  </tbody>\n",
       "</table>\n",
       "</div>"
      ],
      "text/plain": [
       "              amount\n",
       "region              \n",
       "경기 과천시  58984.756834\n",
       "전남 완도군  45119.572058\n",
       "서울 광진구  44420.386452\n",
       "경북 상주시  38071.436932\n",
       "서울 강남구  33144.933447\n",
       "경기 김포시  27419.659890\n",
       "전남 담양군  26967.862115\n",
       "부산 기장군  24468.758484\n",
       "충북 옥천군  23071.366091\n",
       "경기 용인시  22128.524789"
      ]
     },
     "execution_count": 73,
     "metadata": {},
     "output_type": "execute_result"
    }
   ],
   "source": [
    "train_df.groupby(['region'])['amount'].mean().sort_values(ascending=False)[:10].to_frame()"
   ]
  },
  {
   "cell_type": "markdown",
   "metadata": {},
   "source": [
    "#### 매출이 낮은 상점의 지역\n",
    "* 강원 철원군, 시종 고운서길이 매출이 낮은 상점 지역으로 나타났고, 서울 양천구는 서울임에도 불구하고 매출이 낮은 상점의 지역에 속함."
   ]
  },
  {
   "cell_type": "code",
   "execution_count": 74,
   "metadata": {},
   "outputs": [
    {
     "data": {
      "text/html": [
       "<div>\n",
       "<style scoped>\n",
       "    .dataframe tbody tr th:only-of-type {\n",
       "        vertical-align: middle;\n",
       "    }\n",
       "\n",
       "    .dataframe tbody tr th {\n",
       "        vertical-align: top;\n",
       "    }\n",
       "\n",
       "    .dataframe thead th {\n",
       "        text-align: right;\n",
       "    }\n",
       "</style>\n",
       "<table border=\"1\" class=\"dataframe\">\n",
       "  <thead>\n",
       "    <tr style=\"text-align: right;\">\n",
       "      <th></th>\n",
       "      <th>amount</th>\n",
       "    </tr>\n",
       "    <tr>\n",
       "      <th>region</th>\n",
       "      <th></th>\n",
       "    </tr>\n",
       "  </thead>\n",
       "  <tbody>\n",
       "    <tr>\n",
       "      <th>강원 철원군</th>\n",
       "      <td>1863.486008</td>\n",
       "    </tr>\n",
       "    <tr>\n",
       "      <th>세종 고운서길</th>\n",
       "      <td>2751.297153</td>\n",
       "    </tr>\n",
       "    <tr>\n",
       "      <th>경남 남해군</th>\n",
       "      <td>3051.031587</td>\n",
       "    </tr>\n",
       "    <tr>\n",
       "      <th>충남 예산군</th>\n",
       "      <td>3069.894499</td>\n",
       "    </tr>\n",
       "    <tr>\n",
       "      <th>세종 도움3로</th>\n",
       "      <td>3410.774512</td>\n",
       "    </tr>\n",
       "    <tr>\n",
       "      <th>충남 금산군</th>\n",
       "      <td>3592.849345</td>\n",
       "    </tr>\n",
       "    <tr>\n",
       "      <th>전북 김제시</th>\n",
       "      <td>3667.301628</td>\n",
       "    </tr>\n",
       "    <tr>\n",
       "      <th>경북 울진군</th>\n",
       "      <td>3806.350728</td>\n",
       "    </tr>\n",
       "    <tr>\n",
       "      <th>서울 양천구</th>\n",
       "      <td>4036.949217</td>\n",
       "    </tr>\n",
       "    <tr>\n",
       "      <th>부산 영도구</th>\n",
       "      <td>4132.397818</td>\n",
       "    </tr>\n",
       "  </tbody>\n",
       "</table>\n",
       "</div>"
      ],
      "text/plain": [
       "              amount\n",
       "region              \n",
       "강원 철원군   1863.486008\n",
       "세종 고운서길  2751.297153\n",
       "경남 남해군   3051.031587\n",
       "충남 예산군   3069.894499\n",
       "세종 도움3로  3410.774512\n",
       "충남 금산군   3592.849345\n",
       "전북 김제시   3667.301628\n",
       "경북 울진군   3806.350728\n",
       "서울 양천구   4036.949217\n",
       "부산 영도구   4132.397818"
      ]
     },
     "execution_count": 74,
     "metadata": {},
     "output_type": "execute_result"
    }
   ],
   "source": [
    "train_df.groupby(['region'])['amount'].mean().sort_values(ascending=True)[:10].to_frame()"
   ]
  },
  {
   "cell_type": "markdown",
   "metadata": {},
   "source": [
    "#### 매출이 높은 업종별로 년도-월 별 매출흐름 확인"
   ]
  },
  {
   "cell_type": "code",
   "execution_count": 218,
   "metadata": {},
   "outputs": [
    {
     "data": {
      "text/plain": [
       "['의약품 도매업',\n",
       " '기타 산업용 농산물 도매업',\n",
       " '경영 컨설팅업',\n",
       " '일반 병원',\n",
       " '주방용품 및 가정용 유리, 요업 제품 소매업',\n",
       " '여행사업',\n",
       " '상품 종합 도매업',\n",
       " '의료용품 도매업',\n",
       " '가구 소매업',\n",
       " '귀금속 및 관련제품 제조업']"
      ]
     },
     "execution_count": 218,
     "metadata": {},
     "output_type": "execute_result"
    }
   ],
   "source": [
    "high_amount_business=train_df.groupby(['type_of_business'])['amount'].mean().sort_values(ascending=False)[:10].to_frame().reset_index()['type_of_business'].tolist()\n",
    "high_amount_business"
   ]
  },
  {
   "cell_type": "code",
   "execution_count": 242,
   "metadata": {},
   "outputs": [
    {
     "data": {
      "text/plain": [
       "'기타 산업용 농산물 도매업'"
      ]
     },
     "execution_count": 242,
     "metadata": {},
     "output_type": "execute_result"
    }
   ],
   "source": [
    "high_amount_business[1]    "
   ]
  },
  {
   "cell_type": "code",
   "execution_count": 234,
   "metadata": {},
   "outputs": [
    {
     "data": {
      "text/plain": [
       "range(0, 9)"
      ]
     },
     "execution_count": 234,
     "metadata": {},
     "output_type": "execute_result"
    }
   ],
   "source": [
    "range(len(high_amount_business)-1)"
   ]
  },
  {
   "cell_type": "code",
   "execution_count": 283,
   "metadata": {},
   "outputs": [
    {
     "data": {
      "text/html": [
       "<div>\n",
       "<style scoped>\n",
       "    .dataframe tbody tr th:only-of-type {\n",
       "        vertical-align: middle;\n",
       "    }\n",
       "\n",
       "    .dataframe tbody tr th {\n",
       "        vertical-align: top;\n",
       "    }\n",
       "\n",
       "    .dataframe thead th {\n",
       "        text-align: right;\n",
       "    }\n",
       "</style>\n",
       "<table border=\"1\" class=\"dataframe\">\n",
       "  <thead>\n",
       "    <tr style=\"text-align: right;\">\n",
       "      <th></th>\n",
       "      <th>type_of_business</th>\n",
       "      <th>amount</th>\n",
       "    </tr>\n",
       "  </thead>\n",
       "  <tbody>\n",
       "    <tr>\n",
       "      <th>1482712</th>\n",
       "      <td>의약품 도매업</td>\n",
       "      <td>1.142857e+06</td>\n",
       "    </tr>\n",
       "    <tr>\n",
       "      <th>1482713</th>\n",
       "      <td>의약품 도매업</td>\n",
       "      <td>1.428571e+05</td>\n",
       "    </tr>\n",
       "    <tr>\n",
       "      <th>1482714</th>\n",
       "      <td>의약품 도매업</td>\n",
       "      <td>5.714286e+04</td>\n",
       "    </tr>\n",
       "    <tr>\n",
       "      <th>1482715</th>\n",
       "      <td>의약품 도매업</td>\n",
       "      <td>1.551343e+05</td>\n",
       "    </tr>\n",
       "    <tr>\n",
       "      <th>1482716</th>\n",
       "      <td>의약품 도매업</td>\n",
       "      <td>2.857143e+05</td>\n",
       "    </tr>\n",
       "    <tr>\n",
       "      <th>...</th>\n",
       "      <td>...</td>\n",
       "      <td>...</td>\n",
       "    </tr>\n",
       "    <tr>\n",
       "      <th>1487130</th>\n",
       "      <td>의약품 도매업</td>\n",
       "      <td>1.428571e+04</td>\n",
       "    </tr>\n",
       "    <tr>\n",
       "      <th>1487131</th>\n",
       "      <td>의약품 도매업</td>\n",
       "      <td>8.571429e+05</td>\n",
       "    </tr>\n",
       "    <tr>\n",
       "      <th>1487132</th>\n",
       "      <td>의약품 도매업</td>\n",
       "      <td>9.835714e+05</td>\n",
       "    </tr>\n",
       "    <tr>\n",
       "      <th>1487133</th>\n",
       "      <td>의약품 도매업</td>\n",
       "      <td>1.857143e+05</td>\n",
       "    </tr>\n",
       "    <tr>\n",
       "      <th>1487134</th>\n",
       "      <td>의약품 도매업</td>\n",
       "      <td>1.428571e+05</td>\n",
       "    </tr>\n",
       "  </tbody>\n",
       "</table>\n",
       "<p>4423 rows × 2 columns</p>\n",
       "</div>"
      ],
      "text/plain": [
       "        type_of_business        amount\n",
       "1482712          의약품 도매업  1.142857e+06\n",
       "1482713          의약품 도매업  1.428571e+05\n",
       "1482714          의약품 도매업  5.714286e+04\n",
       "1482715          의약품 도매업  1.551343e+05\n",
       "1482716          의약품 도매업  2.857143e+05\n",
       "...                  ...           ...\n",
       "1487130          의약품 도매업  1.428571e+04\n",
       "1487131          의약품 도매업  8.571429e+05\n",
       "1487132          의약품 도매업  9.835714e+05\n",
       "1487133          의약품 도매업  1.857143e+05\n",
       "1487134          의약품 도매업  1.428571e+05\n",
       "\n",
       "[4423 rows x 2 columns]"
      ]
     },
     "execution_count": 283,
     "metadata": {},
     "output_type": "execute_result"
    }
   ],
   "source": [
    "train_df[['type_of_business','amount']][train_df['type_of_business']==high_amount_business[i]]"
   ]
  },
  {
   "cell_type": "code",
   "execution_count": 293,
   "metadata": {},
   "outputs": [],
   "source": [
    "result=[]\n",
    "for i in range(len(high_amount_business)-1):\n",
    "    value=train_df[['type_of_business','year_month','amount']][train_df['type_of_business']==high_amount_business[i]]\n",
    "    result.append(value)"
   ]
  },
  {
   "cell_type": "markdown",
   "metadata": {},
   "source": [
    "### 문제\n",
    "핀테크 기업인 ‘FUNDA(펀다)’는 상환 기간의 매출을 예측하여 신용 점수가 낮거나 담보를 가지지 못하는 우수 상점들에 금융 기회를 제공하려 합니다.\n",
    " \n",
    "이번 대회에서는 2년 전 부터 2019년 2월 28일까지의 카드 거래 데이터를 이용해 2019-03-01부터 2019-05-31까지의 각 상점별 3개월 총 매출을 예측하는 것입니다.\n",
    "\n",
    "### Data\n",
    "* store_id : 상점의 고유 아이디\n",
    "* card_id : 사용한 카드의 고유 아이디\n",
    "* card_company : 비식별화된 카드 회사\n",
    "* transacted_date: 거래 날짜\n",
    "* transacted_time : 거래 시간 (시:분)\n",
    "* installment_term : 할부 개월 수( 포인트 사용 시 (60개월 + 실제할부개월)을 할부개월수에 기재한다. )\n",
    "* region : 상점의 지역\n",
    "* type_of_business:상점의 업종\n",
    "* amount : 거래액(단위는 원이 아닙니다)\n",
    "\n",
    "**[참고자료]**<br>\n",
    "1. 딥러닝과 통계모델을 이용한 T-커머스 매출예측 <br>\n",
    "http://kiise.or.kr/e_journal/2017/8/JOK/pdf/07.pdf"
   ]
  },
  {
   "cell_type": "code",
   "execution_count": 18,
   "metadata": {},
   "outputs": [],
   "source": [
    "import pandas as pd\n",
    "import numpy as np\n",
    "import matplotlib as mpl\n",
    "import matplotlib.pyplot as plt\n",
    "import seaborn as sns\n",
    "from scipy import stats\n",
    "color = sns.color_palette()\n",
    "import warnings\n",
    "warnings.filterwarnings(\"ignore\")\n",
    "\n",
    "# 노트북 안에 그래프를 그리기 위해\n",
    "%matplotlib inline\n",
    "\n",
    "# 그래프에서 격자로 숫자 범위가 눈에 잘 띄도록 ggplot 스타일을 사용\n",
    "plt.style.use('ggplot')"
   ]
  },
  {
   "cell_type": "code",
   "execution_count": 3,
   "metadata": {},
   "outputs": [],
   "source": [
    "# warning 무시\n",
    "import warnings\n",
    "warnings.filterwarnings(action='ignore')"
   ]
  },
  {
   "cell_type": "markdown",
   "metadata": {},
   "source": [
    "### 한글폰트 깨짐 문제\n"
   ]
  },
  {
   "cell_type": "code",
   "execution_count": 53,
   "metadata": {},
   "outputs": [],
   "source": [
    "import matplotlib.pyplot as plt\n",
    "from matplotlib import rc\n",
    "rc('font', family='AppleGothic')\n",
    "plt.rcParams['axes.unicode_minus'] = False"
   ]
  },
  {
   "cell_type": "markdown",
   "metadata": {},
   "source": [
    "### 데이터 불러오기"
   ]
  },
  {
   "cell_type": "code",
   "execution_count": 9,
   "metadata": {},
   "outputs": [
    {
     "data": {
      "text/plain": [
       "(6556613, 9)"
      ]
     },
     "execution_count": 9,
     "metadata": {},
     "output_type": "execute_result"
    }
   ],
   "source": [
    "train_df = pd.read_csv(\"./data/funda_train.csv\", parse_dates=[\"transacted_date\"])\n",
    "train_df.shape"
   ]
  },
  {
   "cell_type": "code",
   "execution_count": 10,
   "metadata": {},
   "outputs": [
    {
     "data": {
      "text/plain": [
       "(1967, 2)"
      ]
     },
     "execution_count": 10,
     "metadata": {},
     "output_type": "execute_result"
    }
   ],
   "source": [
    "# submission_df=pd.read_csv(\"./data/submission.csv\")\n",
    "# submission_df.shape"
   ]
  },
  {
   "cell_type": "code",
   "execution_count": 10,
   "metadata": {},
   "outputs": [
    {
     "data": {
      "text/html": [
       "<div>\n",
       "<style scoped>\n",
       "    .dataframe tbody tr th:only-of-type {\n",
       "        vertical-align: middle;\n",
       "    }\n",
       "\n",
       "    .dataframe tbody tr th {\n",
       "        vertical-align: top;\n",
       "    }\n",
       "\n",
       "    .dataframe thead th {\n",
       "        text-align: right;\n",
       "    }\n",
       "</style>\n",
       "<table border=\"1\" class=\"dataframe\">\n",
       "  <thead>\n",
       "    <tr style=\"text-align: right;\">\n",
       "      <th></th>\n",
       "      <th>store_id</th>\n",
       "      <th>card_id</th>\n",
       "      <th>card_company</th>\n",
       "      <th>transacted_date</th>\n",
       "      <th>transacted_time</th>\n",
       "      <th>installment_term</th>\n",
       "      <th>region</th>\n",
       "      <th>type_of_business</th>\n",
       "      <th>amount</th>\n",
       "    </tr>\n",
       "  </thead>\n",
       "  <tbody>\n",
       "    <tr>\n",
       "      <th>0</th>\n",
       "      <td>0</td>\n",
       "      <td>0</td>\n",
       "      <td>b</td>\n",
       "      <td>2016-06-01</td>\n",
       "      <td>13:13</td>\n",
       "      <td>0</td>\n",
       "      <td>NaN</td>\n",
       "      <td>기타 미용업</td>\n",
       "      <td>1857.142857</td>\n",
       "    </tr>\n",
       "    <tr>\n",
       "      <th>1</th>\n",
       "      <td>0</td>\n",
       "      <td>1</td>\n",
       "      <td>h</td>\n",
       "      <td>2016-06-01</td>\n",
       "      <td>18:12</td>\n",
       "      <td>0</td>\n",
       "      <td>NaN</td>\n",
       "      <td>기타 미용업</td>\n",
       "      <td>857.142857</td>\n",
       "    </tr>\n",
       "    <tr>\n",
       "      <th>2</th>\n",
       "      <td>0</td>\n",
       "      <td>2</td>\n",
       "      <td>c</td>\n",
       "      <td>2016-06-01</td>\n",
       "      <td>18:52</td>\n",
       "      <td>0</td>\n",
       "      <td>NaN</td>\n",
       "      <td>기타 미용업</td>\n",
       "      <td>2000.000000</td>\n",
       "    </tr>\n",
       "    <tr>\n",
       "      <th>3</th>\n",
       "      <td>0</td>\n",
       "      <td>3</td>\n",
       "      <td>a</td>\n",
       "      <td>2016-06-01</td>\n",
       "      <td>20:22</td>\n",
       "      <td>0</td>\n",
       "      <td>NaN</td>\n",
       "      <td>기타 미용업</td>\n",
       "      <td>7857.142857</td>\n",
       "    </tr>\n",
       "    <tr>\n",
       "      <th>4</th>\n",
       "      <td>0</td>\n",
       "      <td>4</td>\n",
       "      <td>c</td>\n",
       "      <td>2016-06-02</td>\n",
       "      <td>11:06</td>\n",
       "      <td>0</td>\n",
       "      <td>NaN</td>\n",
       "      <td>기타 미용업</td>\n",
       "      <td>2000.000000</td>\n",
       "    </tr>\n",
       "    <tr>\n",
       "      <th>...</th>\n",
       "      <td>...</td>\n",
       "      <td>...</td>\n",
       "      <td>...</td>\n",
       "      <td>...</td>\n",
       "      <td>...</td>\n",
       "      <td>...</td>\n",
       "      <td>...</td>\n",
       "      <td>...</td>\n",
       "      <td>...</td>\n",
       "    </tr>\n",
       "    <tr>\n",
       "      <th>6556608</th>\n",
       "      <td>2136</td>\n",
       "      <td>4663855</td>\n",
       "      <td>d</td>\n",
       "      <td>2019-02-28</td>\n",
       "      <td>23:20</td>\n",
       "      <td>0</td>\n",
       "      <td>제주 제주시</td>\n",
       "      <td>기타 주점업</td>\n",
       "      <td>-4500.000000</td>\n",
       "    </tr>\n",
       "    <tr>\n",
       "      <th>6556609</th>\n",
       "      <td>2136</td>\n",
       "      <td>4663855</td>\n",
       "      <td>d</td>\n",
       "      <td>2019-02-28</td>\n",
       "      <td>23:24</td>\n",
       "      <td>0</td>\n",
       "      <td>제주 제주시</td>\n",
       "      <td>기타 주점업</td>\n",
       "      <td>4142.857143</td>\n",
       "    </tr>\n",
       "    <tr>\n",
       "      <th>6556610</th>\n",
       "      <td>2136</td>\n",
       "      <td>4663489</td>\n",
       "      <td>a</td>\n",
       "      <td>2019-02-28</td>\n",
       "      <td>23:24</td>\n",
       "      <td>0</td>\n",
       "      <td>제주 제주시</td>\n",
       "      <td>기타 주점업</td>\n",
       "      <td>4500.000000</td>\n",
       "    </tr>\n",
       "    <tr>\n",
       "      <th>6556611</th>\n",
       "      <td>2136</td>\n",
       "      <td>4663856</td>\n",
       "      <td>d</td>\n",
       "      <td>2019-02-28</td>\n",
       "      <td>23:27</td>\n",
       "      <td>0</td>\n",
       "      <td>제주 제주시</td>\n",
       "      <td>기타 주점업</td>\n",
       "      <td>571.428571</td>\n",
       "    </tr>\n",
       "    <tr>\n",
       "      <th>6556612</th>\n",
       "      <td>2136</td>\n",
       "      <td>4658616</td>\n",
       "      <td>c</td>\n",
       "      <td>2019-02-28</td>\n",
       "      <td>23:54</td>\n",
       "      <td>0</td>\n",
       "      <td>제주 제주시</td>\n",
       "      <td>기타 주점업</td>\n",
       "      <td>5857.142857</td>\n",
       "    </tr>\n",
       "  </tbody>\n",
       "</table>\n",
       "<p>6556613 rows × 9 columns</p>\n",
       "</div>"
      ],
      "text/plain": [
       "         store_id  card_id card_company transacted_date transacted_time  \\\n",
       "0               0        0            b      2016-06-01           13:13   \n",
       "1               0        1            h      2016-06-01           18:12   \n",
       "2               0        2            c      2016-06-01           18:52   \n",
       "3               0        3            a      2016-06-01           20:22   \n",
       "4               0        4            c      2016-06-02           11:06   \n",
       "...           ...      ...          ...             ...             ...   \n",
       "6556608      2136  4663855            d      2019-02-28           23:20   \n",
       "6556609      2136  4663855            d      2019-02-28           23:24   \n",
       "6556610      2136  4663489            a      2019-02-28           23:24   \n",
       "6556611      2136  4663856            d      2019-02-28           23:27   \n",
       "6556612      2136  4658616            c      2019-02-28           23:54   \n",
       "\n",
       "         installment_term  region type_of_business       amount  \n",
       "0                       0     NaN           기타 미용업  1857.142857  \n",
       "1                       0     NaN           기타 미용업   857.142857  \n",
       "2                       0     NaN           기타 미용업  2000.000000  \n",
       "3                       0     NaN           기타 미용업  7857.142857  \n",
       "4                       0     NaN           기타 미용업  2000.000000  \n",
       "...                   ...     ...              ...          ...  \n",
       "6556608                 0  제주 제주시           기타 주점업 -4500.000000  \n",
       "6556609                 0  제주 제주시           기타 주점업  4142.857143  \n",
       "6556610                 0  제주 제주시           기타 주점업  4500.000000  \n",
       "6556611                 0  제주 제주시           기타 주점업   571.428571  \n",
       "6556612                 0  제주 제주시           기타 주점업  5857.142857  \n",
       "\n",
       "[6556613 rows x 9 columns]"
      ]
     },
     "execution_count": 10,
     "metadata": {},
     "output_type": "execute_result"
    }
   ],
   "source": [
    "train_df"
   ]
  },
  {
   "cell_type": "code",
   "execution_count": 24,
   "metadata": {},
   "outputs": [
    {
     "name": "stdout",
     "output_type": "stream",
     "text": [
      "<class 'pandas.core.frame.DataFrame'>\n",
      "RangeIndex: 6556613 entries, 0 to 6556612\n",
      "Data columns (total 9 columns):\n",
      " #   Column            Dtype         \n",
      "---  ------            -----         \n",
      " 0   store_id          int64         \n",
      " 1   card_id           int64         \n",
      " 2   card_company      object        \n",
      " 3   transacted_date   datetime64[ns]\n",
      " 4   transacted_time   object        \n",
      " 5   installment_term  int64         \n",
      " 6   region            object        \n",
      " 7   type_of_business  object        \n",
      " 8   amount            float64       \n",
      "dtypes: datetime64[ns](1), float64(1), int64(3), object(4)\n",
      "memory usage: 450.2+ MB\n"
     ]
    }
   ],
   "source": [
    "train_df.info()"
   ]
  },
  {
   "cell_type": "markdown",
   "metadata": {},
   "source": [
    "### 타겟변수 amount 살펴보기\n",
    "* 양 끝에 outlier가 있는것으로 보임. outlier 제거 필요."
   ]
  },
  {
   "cell_type": "code",
   "execution_count": 23,
   "metadata": {},
   "outputs": [
    {
     "data": {
      "image/png": "[encoded data removed]",
      "text/plain": [
       "<Figure size 576x432 with 1 Axes>"
      ]
     },
     "metadata": {
      "needs_background": "light"
     },
     "output_type": "display_data"
    }
   ],
   "source": [
    "plt.figure(figsize=(8,6))\n",
    "plt.scatter(range(train_df.shape[0]),np.sort(train_df['amount'].values))\n",
    "plt.xlabel('index',fontsize=12)\n",
    "plt.ylabel('amount',fontsize=12)\n",
    "plt.title('amount-value')\n",
    "plt.show()"
   ]
  },
  {
   "cell_type": "markdown",
   "metadata": {},
   "source": [
    "#### Outlier제거\n",
    "* percentile 기준으로 99percentile 초과, 1percentile 미만은 Outlier로 취급"
   ]
  },
  {
   "cell_type": "code",
   "execution_count": 98,
   "metadata": {},
   "outputs": [
    {
     "name": "stdout",
     "output_type": "stream",
     "text": [
      "108571.42857142855\n",
      "-157.1428571428571\n"
     ]
    }
   ],
   "source": [
    "### 99percentile 이상과 1 percentile 이하 제거할 경우 각각 6만5천 row정도 제거됨.\n",
    "ulimit = np.percentile(train_df['amount'].values, 99)\n",
    "llimit = np.percentile(train_df['amount'].values, 1)\n",
    "print(ulimit)\n",
    "print(llimit)"
   ]
  },
  {
   "cell_type": "code",
   "execution_count": 111,
   "metadata": {},
   "outputs": [
    {
     "name": "stdout",
     "output_type": "stream",
     "text": [
      "(6556613, 14)\n",
      "131438\n"
     ]
    }
   ],
   "source": [
    "print(train_df.shape)\n",
    "print(6556613-6425175)"
   ]
  },
  {
   "cell_type": "code",
   "execution_count": 120,
   "metadata": {},
   "outputs": [
    {
     "data": {
      "image/png": "[encoded data removed]",
      "text/plain": [
       "<Figure size 1440x576 with 2 Axes>"
      ]
     },
     "metadata": {},
     "output_type": "display_data"
    }
   ],
   "source": [
    "fig,(ax1,ax2)=plt.subplots(nrows=1, ncols=2)\n",
    "fig.set_size_inches(20,8)\n",
    "sns.distplot(train_df['amount'],bins=50,ax=ax1)\n",
    "sns.distplot(train_df['amount'][(train_df['amount']<ulimit) & (train_df['amount']>llimit)].values, bins=50,color=color[2],ax=ax2)\n",
    "ax1.set(xlabel='거래량',title='Outlier제거 전 원본 거래량')\n",
    "ax2.set(xlabel='거래량',title='Outlier제거 후 거래량')\n",
    "plt.show()"
   ]
  },
  {
   "cell_type": "markdown",
   "metadata": {},
   "source": [
    "### 결측치 확인"
   ]
  },
  {
   "cell_type": "code",
   "execution_count": 26,
   "metadata": {},
   "outputs": [
    {
     "data": {
      "text/plain": [
       "store_id                  0\n",
       "card_id                   0\n",
       "card_company              0\n",
       "transacted_date           0\n",
       "transacted_time           0\n",
       "installment_term          0\n",
       "region              2042766\n",
       "type_of_business    3952609\n",
       "amount                    0\n",
       "dtype: int64"
      ]
     },
     "execution_count": 26,
     "metadata": {},
     "output_type": "execute_result"
    }
   ],
   "source": [
    "# 결측치 확인 \n",
    "train_df.isnull().sum()"
   ]
  },
  {
   "cell_type": "code",
   "execution_count": 11,
   "metadata": {},
   "outputs": [
    {
     "data": {
      "text/plain": [
       "<matplotlib.axes._subplots.AxesSubplot at 0x1a329c7ef0>"
      ]
     },
     "execution_count": 11,
     "metadata": {},
     "output_type": "execute_result"
    },
    {
     "data": {
      "image/png": "[encoded data removed]",
      "text/plain": [
       "<Figure size 864x360 with 2 Axes>"
      ]
     },
     "metadata": {},
     "output_type": "display_data"
    }
   ],
   "source": [
    "import missingno as msno\n",
    "\n",
    "msno.matrix(train_df, figsize=(12,5))"
   ]
  },
  {
   "cell_type": "code",
   "execution_count": 22,
   "metadata": {},
   "outputs": [
    {
     "data": {
      "image/png": "[encoded data removed]",
      "text/plain": [
       "<Figure size 1440x576 with 3 Axes>"
      ]
     },
     "metadata": {},
     "output_type": "display_data"
    }
   ],
   "source": [
    "missingValueColumns=train_df.columns[train_df.isnull().any()].tolist()\n",
    "msno.bar(train_df[missingValueColumns],figsize=(20,8),color=color[5],fontsize=12,labels=True)\n",
    "plt.show()"
   ]
  },
  {
   "cell_type": "markdown",
   "metadata": {},
   "source": [
    "### 날짜,시간 컬럼 분리"
   ]
  },
  {
   "cell_type": "code",
   "execution_count": 32,
   "metadata": {},
   "outputs": [
    {
     "data": {
      "text/plain": [
       "0          13\n",
       "1          18\n",
       "2          18\n",
       "3          20\n",
       "4          11\n",
       "           ..\n",
       "6556608    23\n",
       "6556609    23\n",
       "6556610    23\n",
       "6556611    23\n",
       "6556612    23\n",
       "Name: transacted_time, Length: 6556613, dtype: int64"
      ]
     },
     "execution_count": 32,
     "metadata": {},
     "output_type": "execute_result"
    }
   ],
   "source": [
    "# transactied_time 컬럼은 시,분으로 이루어져있으므로 hour만 뽑아내기.\n",
    "pd.to_datetime(train_df['transacted_time'],format='%H:%M').dt.hour"
   ]
  },
  {
   "cell_type": "code",
   "execution_count": 35,
   "metadata": {},
   "outputs": [],
   "source": [
    "# 년도, 월, 일, 시간별 컬럼 분리\n",
    "train_df['year']=train_df['transacted_date'].dt.year\n",
    "train_df['month']=train_df['transacted_date'].dt.month\n",
    "train_df['day']=train_df['transacted_date'].dt.day\n",
    "train_df['hour']=pd.to_datetime(train_df['transacted_time'],format='%H:%M').dt.hour"
   ]
  },
  {
   "cell_type": "code",
   "execution_count": 37,
   "metadata": {},
   "outputs": [
    {
     "data": {
      "text/plain": [
       "(6556613, 13)"
      ]
     },
     "execution_count": 37,
     "metadata": {},
     "output_type": "execute_result"
    }
   ],
   "source": [
    "train_df.shape"
   ]
  },
  {
   "cell_type": "code",
   "execution_count": 38,
   "metadata": {},
   "outputs": [
    {
     "data": {
      "text/html": [
       "<div>\n",
       "<style scoped>\n",
       "    .dataframe tbody tr th:only-of-type {\n",
       "        vertical-align: middle;\n",
       "    }\n",
       "\n",
       "    .dataframe tbody tr th {\n",
       "        vertical-align: top;\n",
       "    }\n",
       "\n",
       "    .dataframe thead th {\n",
       "        text-align: right;\n",
       "    }\n",
       "</style>\n",
       "<table border=\"1\" class=\"dataframe\">\n",
       "  <thead>\n",
       "    <tr style=\"text-align: right;\">\n",
       "      <th></th>\n",
       "      <th>store_id</th>\n",
       "      <th>card_id</th>\n",
       "      <th>card_company</th>\n",
       "      <th>transacted_date</th>\n",
       "      <th>transacted_time</th>\n",
       "      <th>installment_term</th>\n",
       "      <th>region</th>\n",
       "      <th>type_of_business</th>\n",
       "      <th>amount</th>\n",
       "      <th>year</th>\n",
       "      <th>month</th>\n",
       "      <th>day</th>\n",
       "      <th>hour</th>\n",
       "    </tr>\n",
       "  </thead>\n",
       "  <tbody>\n",
       "    <tr>\n",
       "      <th>0</th>\n",
       "      <td>0</td>\n",
       "      <td>0</td>\n",
       "      <td>b</td>\n",
       "      <td>2016-06-01</td>\n",
       "      <td>13:13</td>\n",
       "      <td>0</td>\n",
       "      <td>NaN</td>\n",
       "      <td>기타 미용업</td>\n",
       "      <td>1857.142857</td>\n",
       "      <td>2016</td>\n",
       "      <td>6</td>\n",
       "      <td>1</td>\n",
       "      <td>13</td>\n",
       "    </tr>\n",
       "    <tr>\n",
       "      <th>1</th>\n",
       "      <td>0</td>\n",
       "      <td>1</td>\n",
       "      <td>h</td>\n",
       "      <td>2016-06-01</td>\n",
       "      <td>18:12</td>\n",
       "      <td>0</td>\n",
       "      <td>NaN</td>\n",
       "      <td>기타 미용업</td>\n",
       "      <td>857.142857</td>\n",
       "      <td>2016</td>\n",
       "      <td>6</td>\n",
       "      <td>1</td>\n",
       "      <td>18</td>\n",
       "    </tr>\n",
       "    <tr>\n",
       "      <th>2</th>\n",
       "      <td>0</td>\n",
       "      <td>2</td>\n",
       "      <td>c</td>\n",
       "      <td>2016-06-01</td>\n",
       "      <td>18:52</td>\n",
       "      <td>0</td>\n",
       "      <td>NaN</td>\n",
       "      <td>기타 미용업</td>\n",
       "      <td>2000.000000</td>\n",
       "      <td>2016</td>\n",
       "      <td>6</td>\n",
       "      <td>1</td>\n",
       "      <td>18</td>\n",
       "    </tr>\n",
       "    <tr>\n",
       "      <th>3</th>\n",
       "      <td>0</td>\n",
       "      <td>3</td>\n",
       "      <td>a</td>\n",
       "      <td>2016-06-01</td>\n",
       "      <td>20:22</td>\n",
       "      <td>0</td>\n",
       "      <td>NaN</td>\n",
       "      <td>기타 미용업</td>\n",
       "      <td>7857.142857</td>\n",
       "      <td>2016</td>\n",
       "      <td>6</td>\n",
       "      <td>1</td>\n",
       "      <td>20</td>\n",
       "    </tr>\n",
       "    <tr>\n",
       "      <th>4</th>\n",
       "      <td>0</td>\n",
       "      <td>4</td>\n",
       "      <td>c</td>\n",
       "      <td>2016-06-02</td>\n",
       "      <td>11:06</td>\n",
       "      <td>0</td>\n",
       "      <td>NaN</td>\n",
       "      <td>기타 미용업</td>\n",
       "      <td>2000.000000</td>\n",
       "      <td>2016</td>\n",
       "      <td>6</td>\n",
       "      <td>2</td>\n",
       "      <td>11</td>\n",
       "    </tr>\n",
       "  </tbody>\n",
       "</table>\n",
       "</div>"
      ],
      "text/plain": [
       "   store_id  card_id card_company transacted_date transacted_time  \\\n",
       "0         0        0            b      2016-06-01           13:13   \n",
       "1         0        1            h      2016-06-01           18:12   \n",
       "2         0        2            c      2016-06-01           18:52   \n",
       "3         0        3            a      2016-06-01           20:22   \n",
       "4         0        4            c      2016-06-02           11:06   \n",
       "\n",
       "   installment_term region type_of_business       amount  year  month  day  \\\n",
       "0                 0    NaN           기타 미용업  1857.142857  2016      6    1   \n",
       "1                 0    NaN           기타 미용업   857.142857  2016      6    1   \n",
       "2                 0    NaN           기타 미용업  2000.000000  2016      6    1   \n",
       "3                 0    NaN           기타 미용업  7857.142857  2016      6    1   \n",
       "4                 0    NaN           기타 미용업  2000.000000  2016      6    2   \n",
       "\n",
       "   hour  \n",
       "0    13  \n",
       "1    18  \n",
       "2    18  \n",
       "3    20  \n",
       "4    11  "
      ]
     },
     "execution_count": 38,
     "metadata": {},
     "output_type": "execute_result"
    }
   ],
   "source": [
    "train_df.head()"
   ]
  },
  {
   "cell_type": "markdown",
   "metadata": {},
   "source": [
    "(python문법) <br>\n",
    "* 리스트에는 map()함수를 적용하고, 데이터프레임에는 apply()함수 적용.\n",
    "* 사용자정의 함수를 만들어서 apply로 적용해도되고, apply(lambda x: )함수를 함께 사용해도됨."
   ]
  },
  {
   "cell_type": "code",
   "execution_count": 39,
   "metadata": {},
   "outputs": [],
   "source": [
    "# 년도-월 컬럼 생성\n",
    "def concatenate_year_month(datetime):\n",
    "    return \"{0}-{1}\".format(datetime.year,datetime.month)"
   ]
  },
  {
   "cell_type": "code",
   "execution_count": 45,
   "metadata": {},
   "outputs": [
    {
     "data": {
      "text/plain": [
       "0          2016-6\n",
       "1          2016-6\n",
       "2          2016-6\n",
       "3          2016-6\n",
       "4          2016-6\n",
       "            ...  \n",
       "6556608    2019-2\n",
       "6556609    2019-2\n",
       "6556610    2019-2\n",
       "6556611    2019-2\n",
       "6556612    2019-2\n",
       "Name: transacted_date, Length: 6556613, dtype: object"
      ]
     },
     "execution_count": 45,
     "metadata": {},
     "output_type": "execute_result"
    }
   ],
   "source": [
    "train_df['transacted_date'].apply(lambda x: \"{0}-{1}\".format(x.year,x.month))"
   ]
  },
  {
   "cell_type": "code",
   "execution_count": 40,
   "metadata": {},
   "outputs": [],
   "source": [
    "train_df['year_month']=train_df['transacted_date'].apply(concatenate_year_month)"
   ]
  },
  {
   "cell_type": "code",
   "execution_count": 47,
   "metadata": {},
   "outputs": [
    {
     "data": {
      "text/html": [
       "<div>\n",
       "<style scoped>\n",
       "    .dataframe tbody tr th:only-of-type {\n",
       "        vertical-align: middle;\n",
       "    }\n",
       "\n",
       "    .dataframe tbody tr th {\n",
       "        vertical-align: top;\n",
       "    }\n",
       "\n",
       "    .dataframe thead th {\n",
       "        text-align: right;\n",
       "    }\n",
       "</style>\n",
       "<table border=\"1\" class=\"dataframe\">\n",
       "  <thead>\n",
       "    <tr style=\"text-align: right;\">\n",
       "      <th></th>\n",
       "      <th>store_id</th>\n",
       "      <th>card_id</th>\n",
       "      <th>card_company</th>\n",
       "      <th>transacted_date</th>\n",
       "      <th>transacted_time</th>\n",
       "      <th>installment_term</th>\n",
       "      <th>region</th>\n",
       "      <th>type_of_business</th>\n",
       "      <th>amount</th>\n",
       "      <th>year</th>\n",
       "      <th>month</th>\n",
       "      <th>day</th>\n",
       "      <th>hour</th>\n",
       "      <th>year_month</th>\n",
       "    </tr>\n",
       "  </thead>\n",
       "  <tbody>\n",
       "    <tr>\n",
       "      <th>0</th>\n",
       "      <td>0</td>\n",
       "      <td>0</td>\n",
       "      <td>b</td>\n",
       "      <td>2016-06-01</td>\n",
       "      <td>13:13</td>\n",
       "      <td>0</td>\n",
       "      <td>NaN</td>\n",
       "      <td>기타 미용업</td>\n",
       "      <td>1857.142857</td>\n",
       "      <td>2016</td>\n",
       "      <td>6</td>\n",
       "      <td>1</td>\n",
       "      <td>13</td>\n",
       "      <td>2016-6</td>\n",
       "    </tr>\n",
       "    <tr>\n",
       "      <th>1</th>\n",
       "      <td>0</td>\n",
       "      <td>1</td>\n",
       "      <td>h</td>\n",
       "      <td>2016-06-01</td>\n",
       "      <td>18:12</td>\n",
       "      <td>0</td>\n",
       "      <td>NaN</td>\n",
       "      <td>기타 미용업</td>\n",
       "      <td>857.142857</td>\n",
       "      <td>2016</td>\n",
       "      <td>6</td>\n",
       "      <td>1</td>\n",
       "      <td>18</td>\n",
       "      <td>2016-6</td>\n",
       "    </tr>\n",
       "    <tr>\n",
       "      <th>2</th>\n",
       "      <td>0</td>\n",
       "      <td>2</td>\n",
       "      <td>c</td>\n",
       "      <td>2016-06-01</td>\n",
       "      <td>18:52</td>\n",
       "      <td>0</td>\n",
       "      <td>NaN</td>\n",
       "      <td>기타 미용업</td>\n",
       "      <td>2000.000000</td>\n",
       "      <td>2016</td>\n",
       "      <td>6</td>\n",
       "      <td>1</td>\n",
       "      <td>18</td>\n",
       "      <td>2016-6</td>\n",
       "    </tr>\n",
       "    <tr>\n",
       "      <th>3</th>\n",
       "      <td>0</td>\n",
       "      <td>3</td>\n",
       "      <td>a</td>\n",
       "      <td>2016-06-01</td>\n",
       "      <td>20:22</td>\n",
       "      <td>0</td>\n",
       "      <td>NaN</td>\n",
       "      <td>기타 미용업</td>\n",
       "      <td>7857.142857</td>\n",
       "      <td>2016</td>\n",
       "      <td>6</td>\n",
       "      <td>1</td>\n",
       "      <td>20</td>\n",
       "      <td>2016-6</td>\n",
       "    </tr>\n",
       "    <tr>\n",
       "      <th>4</th>\n",
       "      <td>0</td>\n",
       "      <td>4</td>\n",
       "      <td>c</td>\n",
       "      <td>2016-06-02</td>\n",
       "      <td>11:06</td>\n",
       "      <td>0</td>\n",
       "      <td>NaN</td>\n",
       "      <td>기타 미용업</td>\n",
       "      <td>2000.000000</td>\n",
       "      <td>2016</td>\n",
       "      <td>6</td>\n",
       "      <td>2</td>\n",
       "      <td>11</td>\n",
       "      <td>2016-6</td>\n",
       "    </tr>\n",
       "  </tbody>\n",
       "</table>\n",
       "</div>"
      ],
      "text/plain": [
       "   store_id  card_id card_company transacted_date transacted_time  \\\n",
       "0         0        0            b      2016-06-01           13:13   \n",
       "1         0        1            h      2016-06-01           18:12   \n",
       "2         0        2            c      2016-06-01           18:52   \n",
       "3         0        3            a      2016-06-01           20:22   \n",
       "4         0        4            c      2016-06-02           11:06   \n",
       "\n",
       "   installment_term region type_of_business       amount  year  month  day  \\\n",
       "0                 0    NaN           기타 미용업  1857.142857  2016      6    1   \n",
       "1                 0    NaN           기타 미용업   857.142857  2016      6    1   \n",
       "2                 0    NaN           기타 미용업  2000.000000  2016      6    1   \n",
       "3                 0    NaN           기타 미용업  7857.142857  2016      6    1   \n",
       "4                 0    NaN           기타 미용업  2000.000000  2016      6    2   \n",
       "\n",
       "   hour year_month  \n",
       "0    13     2016-6  \n",
       "1    18     2016-6  \n",
       "2    18     2016-6  \n",
       "3    20     2016-6  \n",
       "4    11     2016-6  "
      ]
     },
     "execution_count": 47,
     "metadata": {},
     "output_type": "execute_result"
    }
   ],
   "source": [
    "train_df.head()"
   ]
  },
  {
   "cell_type": "markdown",
   "metadata": {},
   "source": [
    "### 년-월-일-시간 별 거래량"
   ]
  },
  {
   "cell_type": "code",
   "execution_count": 52,
   "metadata": {},
   "outputs": [
    {
     "data": {
      "image/png": "[encoded data removed]",
      "text/plain": [
       "<Figure size 1440x576 with 4 Axes>"
      ]
     },
     "metadata": {},
     "output_type": "display_data"
    }
   ],
   "source": [
    "fig,((ax1,ax2),(ax3,ax4))=plt.subplots(nrows=2,ncols=2)\n",
    "fig.set_size_inches(20,8)\n",
    "sns.barplot(data=train_df,x=\"year\",y=\"amount\",ax=ax1)\n",
    "sns.barplot(data=train_df,x=\"month\",y=\"amount\",ax=ax2)\n",
    "sns.barplot(data=train_df,x=\"day\",y=\"amount\",ax=ax3)\n",
    "sns.barplot(data=train_df,x=\"hour\",y=\"amount\",ax=ax4)\n",
    "\n",
    "ax1.set(xlabel='year',ylabel='amount',title='amount-by-year')\n",
    "ax2.set(xlabel='month',ylabel='amount',title='amount-by-month')\n",
    "ax3.set(xlabel='day',ylabel='amount',title='amount-by-day')\n",
    "ax4.set(xlabel='hour',ylabel='amount',title='amount-by-hour')\n",
    "plt.show()"
   ]
  },
  {
   "cell_type": "code",
   "execution_count": 56,
   "metadata": {},
   "outputs": [
    {
     "data": {
      "image/png": "[encoded data removed]",
      "text/plain": [
       "<Figure size 1440x576 with 1 Axes>"
      ]
     },
     "metadata": {},
     "output_type": "display_data"
    }
   ],
   "source": [
    "plt.figure(figsize=(20,8))\n",
    "sns.barplot(data=train_df,x=\"year_month\",y=\"amount\")\n",
    "plt.xlabel('년도-월',fontsize=12)\n",
    "plt.ylabel('거래량',fontsize=12)\n",
    "plt.title('년,월 별 거래량')\n",
    "plt.show()"
   ]
  },
  {
   "cell_type": "markdown",
   "metadata": {},
   "source": [
    "#### 매출이 높은 상점의 업종 TOP10 \n",
    "* 의약품 도매업, 기타 산업용 농산물 도매업, 경영컨설팅업, 일반 병원 등이 높은 업종으로 나타남."
   ]
  },
  {
   "cell_type": "code",
   "execution_count": 125,
   "metadata": {},
   "outputs": [
    {
     "data": {
      "text/html": [
       "<div>\n",
       "<style scoped>\n",
       "    .dataframe tbody tr th:only-of-type {\n",
       "        vertical-align: middle;\n",
       "    }\n",
       "\n",
       "    .dataframe tbody tr th {\n",
       "        vertical-align: top;\n",
       "    }\n",
       "\n",
       "    .dataframe thead th {\n",
       "        text-align: right;\n",
       "    }\n",
       "</style>\n",
       "<table border=\"1\" class=\"dataframe\">\n",
       "  <thead>\n",
       "    <tr style=\"text-align: right;\">\n",
       "      <th></th>\n",
       "      <th>type_of_business</th>\n",
       "      <th>amount</th>\n",
       "    </tr>\n",
       "  </thead>\n",
       "  <tbody>\n",
       "    <tr>\n",
       "      <th>0</th>\n",
       "      <td>의약품 도매업</td>\n",
       "      <td>354632.638674</td>\n",
       "    </tr>\n",
       "    <tr>\n",
       "      <th>1</th>\n",
       "      <td>기타 산업용 농산물 도매업</td>\n",
       "      <td>276625.139388</td>\n",
       "    </tr>\n",
       "    <tr>\n",
       "      <th>2</th>\n",
       "      <td>경영 컨설팅업</td>\n",
       "      <td>150819.538148</td>\n",
       "    </tr>\n",
       "    <tr>\n",
       "      <th>3</th>\n",
       "      <td>일반 병원</td>\n",
       "      <td>135287.727565</td>\n",
       "    </tr>\n",
       "    <tr>\n",
       "      <th>4</th>\n",
       "      <td>주방용품 및 가정용 유리, 요업 제품 소매업</td>\n",
       "      <td>95901.011149</td>\n",
       "    </tr>\n",
       "    <tr>\n",
       "      <th>5</th>\n",
       "      <td>여행사업</td>\n",
       "      <td>83472.060730</td>\n",
       "    </tr>\n",
       "    <tr>\n",
       "      <th>6</th>\n",
       "      <td>상품 종합 도매업</td>\n",
       "      <td>73585.833643</td>\n",
       "    </tr>\n",
       "    <tr>\n",
       "      <th>7</th>\n",
       "      <td>의료용품 도매업</td>\n",
       "      <td>68497.066892</td>\n",
       "    </tr>\n",
       "    <tr>\n",
       "      <th>8</th>\n",
       "      <td>가구 소매업</td>\n",
       "      <td>67732.033782</td>\n",
       "    </tr>\n",
       "    <tr>\n",
       "      <th>9</th>\n",
       "      <td>귀금속 및 관련제품 제조업</td>\n",
       "      <td>63359.656169</td>\n",
       "    </tr>\n",
       "  </tbody>\n",
       "</table>\n",
       "</div>"
      ],
      "text/plain": [
       "           type_of_business         amount\n",
       "0                   의약품 도매업  354632.638674\n",
       "1            기타 산업용 농산물 도매업  276625.139388\n",
       "2                   경영 컨설팅업  150819.538148\n",
       "3                     일반 병원  135287.727565\n",
       "4  주방용품 및 가정용 유리, 요업 제품 소매업   95901.011149\n",
       "5                      여행사업   83472.060730\n",
       "6                 상품 종합 도매업   73585.833643\n",
       "7                  의료용품 도매업   68497.066892\n",
       "8                    가구 소매업   67732.033782\n",
       "9            귀금속 및 관련제품 제조업   63359.656169"
      ]
     },
     "execution_count": 125,
     "metadata": {},
     "output_type": "execute_result"
    }
   ],
   "source": [
    "# 매출이 높은 업종 10개\n",
    "train_df.groupby(['type_of_business'])['amount'].mean().sort_values(ascending=False)[:10].to_frame().reset_index()"
   ]
  },
  {
   "cell_type": "markdown",
   "metadata": {},
   "source": [
    "#### 매출이 낮은 상점의 업종 10\n",
    "* '의약품 도매업'은 매출이 가장 높았던 데 비해 '일반 의원'은 매출이 낮은 업종으로 분류\n",
    "* '귀금속 및 관련제품 제조업' 은 매출이 높았던 데 비해, '시계 및 귀금속 소매업'은 매출이 낮아보임."
   ]
  },
  {
   "cell_type": "code",
   "execution_count": 69,
   "metadata": {},
   "outputs": [
    {
     "data": {
      "text/html": [
       "<div>\n",
       "<style scoped>\n",
       "    .dataframe tbody tr th:only-of-type {\n",
       "        vertical-align: middle;\n",
       "    }\n",
       "\n",
       "    .dataframe tbody tr th {\n",
       "        vertical-align: top;\n",
       "    }\n",
       "\n",
       "    .dataframe thead th {\n",
       "        text-align: right;\n",
       "    }\n",
       "</style>\n",
       "<table border=\"1\" class=\"dataframe\">\n",
       "  <thead>\n",
       "    <tr style=\"text-align: right;\">\n",
       "      <th></th>\n",
       "      <th>amount</th>\n",
       "    </tr>\n",
       "    <tr>\n",
       "      <th>type_of_business</th>\n",
       "      <th></th>\n",
       "    </tr>\n",
       "  </thead>\n",
       "  <tbody>\n",
       "    <tr>\n",
       "      <th>제과점업</th>\n",
       "      <td>913.737800</td>\n",
       "    </tr>\n",
       "    <tr>\n",
       "      <th>일반 의원</th>\n",
       "      <td>1406.982724</td>\n",
       "    </tr>\n",
       "    <tr>\n",
       "      <th>체인화 편의점</th>\n",
       "      <td>1593.218107</td>\n",
       "    </tr>\n",
       "    <tr>\n",
       "      <th>떡류 제조업</th>\n",
       "      <td>1825.979464</td>\n",
       "    </tr>\n",
       "    <tr>\n",
       "      <th>비알코올 음료점업</th>\n",
       "      <td>1970.210406</td>\n",
       "    </tr>\n",
       "    <tr>\n",
       "      <th>신선식품 및 단순 가공식품 도매업</th>\n",
       "      <td>2191.892393</td>\n",
       "    </tr>\n",
       "    <tr>\n",
       "      <th>당구장 운영업</th>\n",
       "      <td>2216.566487</td>\n",
       "    </tr>\n",
       "    <tr>\n",
       "      <th>그 외 기타 나무제품 제조업</th>\n",
       "      <td>2469.602340</td>\n",
       "    </tr>\n",
       "    <tr>\n",
       "      <th>중식 음식점업</th>\n",
       "      <td>2504.806029</td>\n",
       "    </tr>\n",
       "    <tr>\n",
       "      <th>시계 및 귀금속 소매업</th>\n",
       "      <td>2515.450311</td>\n",
       "    </tr>\n",
       "  </tbody>\n",
       "</table>\n",
       "</div>"
      ],
      "text/plain": [
       "                         amount\n",
       "type_of_business               \n",
       "제과점업                 913.737800\n",
       "일반 의원               1406.982724\n",
       "체인화 편의점             1593.218107\n",
       "떡류 제조업              1825.979464\n",
       "비알코올 음료점업           1970.210406\n",
       "신선식품 및 단순 가공식품 도매업  2191.892393\n",
       "당구장 운영업             2216.566487\n",
       "그 외 기타 나무제품 제조업     2469.602340\n",
       "중식 음식점업             2504.806029\n",
       "시계 및 귀금속 소매업        2515.450311"
      ]
     },
     "execution_count": 69,
     "metadata": {},
     "output_type": "execute_result"
    }
   ],
   "source": [
    "# 매출이 낮은 업종 10개\n",
    "train_df.groupby(['type_of_business'])['amount'].mean().sort_values(ascending=True)[:10].to_frame()"
   ]
  },
  {
   "cell_type": "markdown",
   "metadata": {},
   "source": [
    "#### 매출이 높은 상점의 지역\n",
    "* 의외로 서울이 아닌 '경기 과천', '전남 완도군' 이 매출이 가장 높게나옴.\n",
    "* 서울 강남구는 상위 5위에 속함"
   ]
  },
  {
   "cell_type": "code",
   "execution_count": 73,
   "metadata": {},
   "outputs": [
    {
     "data": {
      "text/html": [
       "<div>\n",
       "<style scoped>\n",
       "    .dataframe tbody tr th:only-of-type {\n",
       "        vertical-align: middle;\n",
       "    }\n",
       "\n",
       "    .dataframe tbody tr th {\n",
       "        vertical-align: top;\n",
       "    }\n",
       "\n",
       "    .dataframe thead th {\n",
       "        text-align: right;\n",
       "    }\n",
       "</style>\n",
       "<table border=\"1\" class=\"dataframe\">\n",
       "  <thead>\n",
       "    <tr style=\"text-align: right;\">\n",
       "      <th></th>\n",
       "      <th>amount</th>\n",
       "    </tr>\n",
       "    <tr>\n",
       "      <th>region</th>\n",
       "      <th></th>\n",
       "    </tr>\n",
       "  </thead>\n",
       "  <tbody>\n",
       "    <tr>\n",
       "      <th>경기 과천시</th>\n",
       "      <td>58984.756834</td>\n",
       "    </tr>\n",
       "    <tr>\n",
       "      <th>전남 완도군</th>\n",
       "      <td>45119.572058</td>\n",
       "    </tr>\n",
       "    <tr>\n",
       "      <th>서울 광진구</th>\n",
       "      <td>44420.386452</td>\n",
       "    </tr>\n",
       "    <tr>\n",
       "      <th>경북 상주시</th>\n",
       "      <td>38071.436932</td>\n",
       "    </tr>\n",
       "    <tr>\n",
       "      <th>서울 강남구</th>\n",
       "      <td>33144.933447</td>\n",
       "    </tr>\n",
       "    <tr>\n",
       "      <th>경기 김포시</th>\n",
       "      <td>27419.659890</td>\n",
       "    </tr>\n",
       "    <tr>\n",
       "      <th>전남 담양군</th>\n",
       "      <td>26967.862115</td>\n",
       "    </tr>\n",
       "    <tr>\n",
       "      <th>부산 기장군</th>\n",
       "      <td>24468.758484</td>\n",
       "    </tr>\n",
       "    <tr>\n",
       "      <th>충북 옥천군</th>\n",
       "      <td>23071.366091</td>\n",
       "    </tr>\n",
       "    <tr>\n",
       "      <th>경기 용인시</th>\n",
       "      <td>22128.524789</td>\n",
       "    </tr>\n",
       "  </tbody>\n",
       "</table>\n",
       "</div>"
      ],
      "text/plain": [
       "              amount\n",
       "region              \n",
       "경기 과천시  58984.756834\n",
       "전남 완도군  45119.572058\n",
       "서울 광진구  44420.386452\n",
       "경북 상주시  38071.436932\n",
       "서울 강남구  33144.933447\n",
       "경기 김포시  27419.659890\n",
       "전남 담양군  26967.862115\n",
       "부산 기장군  24468.758484\n",
       "충북 옥천군  23071.366091\n",
       "경기 용인시  22128.524789"
      ]
     },
     "execution_count": 73,
     "metadata": {},
     "output_type": "execute_result"
    }
   ],
   "source": [
    "train_df.groupby(['region'])['amount'].mean().sort_values(ascending=False)[:10].to_frame()"
   ]
  },
  {
   "cell_type": "markdown",
   "metadata": {},
   "source": [
    "#### 매출이 낮은 상점의 지역\n",
    "* 강원 철원군, 시종 고운서길이 매출이 낮은 상점 지역으로 나타났고, 서울 양천구는 서울임에도 불구하고 매출이 낮은 상점의 지역에 속함."
   ]
  },
  {
   "cell_type": "code",
   "execution_count": 74,
   "metadata": {},
   "outputs": [
    {
     "data": {
      "text/html": [
       "<div>\n",
       "<style scoped>\n",
       "    .dataframe tbody tr th:only-of-type {\n",
       "        vertical-align: middle;\n",
       "    }\n",
       "\n",
       "    .dataframe tbody tr th {\n",
       "        vertical-align: top;\n",
       "    }\n",
       "\n",
       "    .dataframe thead th {\n",
       "        text-align: right;\n",
       "    }\n",
       "</style>\n",
       "<table border=\"1\" class=\"dataframe\">\n",
       "  <thead>\n",
       "    <tr style=\"text-align: right;\">\n",
       "      <th></th>\n",
       "      <th>amount</th>\n",
       "    </tr>\n",
       "    <tr>\n",
       "      <th>region</th>\n",
       "      <th></th>\n",
       "    </tr>\n",
       "  </thead>\n",
       "  <tbody>\n",
       "    <tr>\n",
       "      <th>강원 철원군</th>\n",
       "      <td>1863.486008</td>\n",
       "    </tr>\n",
       "    <tr>\n",
       "      <th>세종 고운서길</th>\n",
       "      <td>2751.297153</td>\n",
       "    </tr>\n",
       "    <tr>\n",
       "      <th>경남 남해군</th>\n",
       "      <td>3051.031587</td>\n",
       "    </tr>\n",
       "    <tr>\n",
       "      <th>충남 예산군</th>\n",
       "      <td>3069.894499</td>\n",
       "    </tr>\n",
       "    <tr>\n",
       "      <th>세종 도움3로</th>\n",
       "      <td>3410.774512</td>\n",
       "    </tr>\n",
       "    <tr>\n",
       "      <th>충남 금산군</th>\n",
       "      <td>3592.849345</td>\n",
       "    </tr>\n",
       "    <tr>\n",
       "      <th>전북 김제시</th>\n",
       "      <td>3667.301628</td>\n",
       "    </tr>\n",
       "    <tr>\n",
       "      <th>경북 울진군</th>\n",
       "      <td>3806.350728</td>\n",
       "    </tr>\n",
       "    <tr>\n",
       "      <th>서울 양천구</th>\n",
       "      <td>4036.949217</td>\n",
       "    </tr>\n",
       "    <tr>\n",
       "      <th>부산 영도구</th>\n",
       "      <td>4132.397818</td>\n",
       "    </tr>\n",
       "  </tbody>\n",
       "</table>\n",
       "</div>"
      ],
      "text/plain": [
       "              amount\n",
       "region              \n",
       "강원 철원군   1863.486008\n",
       "세종 고운서길  2751.297153\n",
       "경남 남해군   3051.031587\n",
       "충남 예산군   3069.894499\n",
       "세종 도움3로  3410.774512\n",
       "충남 금산군   3592.849345\n",
       "전북 김제시   3667.301628\n",
       "경북 울진군   3806.350728\n",
       "서울 양천구   4036.949217\n",
       "부산 영도구   4132.397818"
      ]
     },
     "execution_count": 74,
     "metadata": {},
     "output_type": "execute_result"
    }
   ],
   "source": [
    "train_df.groupby(['region'])['amount'].mean().sort_values(ascending=True)[:10].to_frame()"
   ]
  },
  {
   "cell_type": "markdown",
   "metadata": {},
   "source": [
    "#### 매출이 높은 업종별로 년도-월 별 매출흐름 확인"
   ]
  },
  {
   "cell_type": "code",
   "execution_count": 218,
   "metadata": {},
   "outputs": [
    {
     "data": {
      "text/plain": [
       "['의약품 도매업',\n",
       " '기타 산업용 농산물 도매업',\n",
       " '경영 컨설팅업',\n",
       " '일반 병원',\n",
       " '주방용품 및 가정용 유리, 요업 제품 소매업',\n",
       " '여행사업',\n",
       " '상품 종합 도매업',\n",
       " '의료용품 도매업',\n",
       " '가구 소매업',\n",
       " '귀금속 및 관련제품 제조업']"
      ]
     },
     "execution_count": 218,
     "metadata": {},
     "output_type": "execute_result"
    }
   ],
   "source": [
    "high_amount_business=train_df.groupby(['type_of_business'])['amount'].mean().sort_values(ascending=False)[:10].to_frame().reset_index()['type_of_business'].tolist()\n",
    "high_amount_business"
   ]
  },
  {
   "cell_type": "code",
   "execution_count": 242,
   "metadata": {},
   "outputs": [
    {
     "data": {
      "text/plain": [
       "'기타 산업용 농산물 도매업'"
      ]
     },
     "execution_count": 242,
     "metadata": {},
     "output_type": "execute_result"
    }
   ],
   "source": [
    "high_amount_business[1]    "
   ]
  },
  {
   "cell_type": "code",
   "execution_count": 234,
   "metadata": {},
   "outputs": [
    {
     "data": {
      "text/plain": [
       "range(0, 9)"
      ]
     },
     "execution_count": 234,
     "metadata": {},
     "output_type": "execute_result"
    }
   ],
   "source": [
    "range(len(high_amount_business)-1)"
   ]
  },
  {
   "cell_type": "code",
   "execution_count": 283,
   "metadata": {},
   "outputs": [
    {
     "data": {
      "text/html": [
       "<div>\n",
       "<style scoped>\n",
       "    .dataframe tbody tr th:only-of-type {\n",
       "        vertical-align: middle;\n",
       "    }\n",
       "\n",
       "    .dataframe tbody tr th {\n",
       "        vertical-align: top;\n",
       "    }\n",
       "\n",
       "    .dataframe thead th {\n",
       "        text-align: right;\n",
       "    }\n",
       "</style>\n",
       "<table border=\"1\" class=\"dataframe\">\n",
       "  <thead>\n",
       "    <tr style=\"text-align: right;\">\n",
       "      <th></th>\n",
       "      <th>type_of_business</th>\n",
       "      <th>amount</th>\n",
       "    </tr>\n",
       "  </thead>\n",
       "  <tbody>\n",
       "    <tr>\n",
       "      <th>1482712</th>\n",
       "      <td>의약품 도매업</td>\n",
       "      <td>1.142857e+06</td>\n",
       "    </tr>\n",
       "    <tr>\n",
       "      <th>1482713</th>\n",
       "      <td>의약품 도매업</td>\n",
       "      <td>1.428571e+05</td>\n",
       "    </tr>\n",
       "    <tr>\n",
       "      <th>1482714</th>\n",
       "      <td>의약품 도매업</td>\n",
       "      <td>5.714286e+04</td>\n",
       "    </tr>\n",
       "    <tr>\n",
       "      <th>1482715</th>\n",
       "      <td>의약품 도매업</td>\n",
       "      <td>1.551343e+05</td>\n",
       "    </tr>\n",
       "    <tr>\n",
       "      <th>1482716</th>\n",
       "      <td>의약품 도매업</td>\n",
       "      <td>2.857143e+05</td>\n",
       "    </tr>\n",
       "    <tr>\n",
       "      <th>...</th>\n",
       "      <td>...</td>\n",
       "      <td>...</td>\n",
       "    </tr>\n",
       "    <tr>\n",
       "      <th>1487130</th>\n",
       "      <td>의약품 도매업</td>\n",
       "      <td>1.428571e+04</td>\n",
       "    </tr>\n",
       "    <tr>\n",
       "      <th>1487131</th>\n",
       "      <td>의약품 도매업</td>\n",
       "      <td>8.571429e+05</td>\n",
       "    </tr>\n",
       "    <tr>\n",
       "      <th>1487132</th>\n",
       "      <td>의약품 도매업</td>\n",
       "      <td>9.835714e+05</td>\n",
       "    </tr>\n",
       "    <tr>\n",
       "      <th>1487133</th>\n",
       "      <td>의약품 도매업</td>\n",
       "      <td>1.857143e+05</td>\n",
       "    </tr>\n",
       "    <tr>\n",
       "      <th>1487134</th>\n",
       "      <td>의약품 도매업</td>\n",
       "      <td>1.428571e+05</td>\n",
       "    </tr>\n",
       "  </tbody>\n",
       "</table>\n",
       "<p>4423 rows × 2 columns</p>\n",
       "</div>"
      ],
      "text/plain": [
       "        type_of_business        amount\n",
       "1482712          의약품 도매업  1.142857e+06\n",
       "1482713          의약품 도매업  1.428571e+05\n",
       "1482714          의약품 도매업  5.714286e+04\n",
       "1482715          의약품 도매업  1.551343e+05\n",
       "1482716          의약품 도매업  2.857143e+05\n",
       "...                  ...           ...\n",
       "1487130          의약품 도매업  1.428571e+04\n",
       "1487131          의약품 도매업  8.571429e+05\n",
       "1487132          의약품 도매업  9.835714e+05\n",
       "1487133          의약품 도매업  1.857143e+05\n",
       "1487134          의약품 도매업  1.428571e+05\n",
       "\n",
       "[4423 rows x 2 columns]"
      ]
     },
     "execution_count": 283,
     "metadata": {},
     "output_type": "execute_result"
    }
   ],
   "source": [
    "train_df[['type_of_business','amount']][train_df['type_of_business']==high_amount_business[i]]"
   ]
  },
  {
   "cell_type": "code",
   "execution_count": 293,
   "metadata": {},
   "outputs": [],
   "source": [
    "result=[]\n",
    "for i in range(len(high_amount_business)-1):\n",
    "    value=train_df[['type_of_business','year_month','amount']][train_df['type_of_business']==high_amount_business[i]]\n",
    "    result.append(value)"
   ]
  },
  {
   "cell_type": "code",
   "execution_count": null,
   "metadata": {},
   "outputs": [],
   "source": []
  },
  {
   "cell_type": "code",
   "execution_count": null,
   "metadata": {},
   "outputs": [],
   "source": []
  }
 ],
 "metadata": {
  "kernelspec": {
   "display_name": "suhyun2",
   "language": "python",
   "name": "suhyun2"
  },
  "language_info": {
   "codemirror_mode": {
    "name": "ipython",
    "version": 3
   },
   "file_extension": ".py",
   "mimetype": "text/x-python",
   "name": "python",
   "nbconvert_exporter": "python",
   "pygments_lexer": "ipython3",
   "version": "3.6.8"
  }
 },
 "nbformat": 4,
 "nbformat_minor": 2
}
